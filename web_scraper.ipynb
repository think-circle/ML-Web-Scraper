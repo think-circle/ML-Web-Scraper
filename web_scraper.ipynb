{
 "cells": [
  {
   "cell_type": "markdown",
   "metadata": {},
   "source": [
    " <h2> Domain.com.au Web Scraping</h2>\n",
    "                             <img src=\"http://www.domain.com.au/Content/Files/misc/domainLogoHead.gif\">"
   ]
  },
  {
   "cell_type": "markdown",
   "metadata": {},
   "source": [
    "IMPORTING LIBRARIES"
   ]
  },
  {
   "cell_type": "code",
   "execution_count": 1,
   "metadata": {},
   "outputs": [],
   "source": [
    "# HTML extraction & Parsin\n",
    "from bs4 import BeautifulSoup\n",
    "import requests\n",
    "import pandas as pd\n",
    "import numpy as np\n",
    "import urllib\n",
    "import math\n",
    "import os\n",
    "from constants import Brisbane_suburbs,Melbourne_suburbs,Sydney_suburbs,Adelaide_suburbs,Perth_suburbs\n",
    "\n",
    "\n",
    "\n",
    "# Calculate Latitude & Longitude\n",
    "from geopy.geocoders import Nominatim\n",
    "# Calculate Distance from Latitude & Longitude\n",
    "from math import sin, cos, sqrt, atan2, radians\n",
    "import emailsend\n",
    "\n"
   ]
  },
  {
   "cell_type": "markdown",
   "metadata": {},
   "source": [
    "SET GLOBAL PARAMETERS"
   ]
  },
  {
   "cell_type": "code",
   "execution_count": 2,
   "metadata": {},
   "outputs": [
    {
     "name": "stdout",
     "output_type": "stream",
     "text": [
      "CHOSEN CITY: Melbourne\n",
      "['lalor-vic-3075', 'lancefield-vic-3435', 'lang-lang-east-vic-3984', 'langwarrin-vic-3910', 'langwarrin-south-vic-3911', 'launching-place-vic-3139', 'laverton-vic-3028', 'laverton-north-vic-3026', 'lilydale-vic-3140', 'long-forest-vic-3340', 'lower-plenty-vic-3093', 'lynbrook-vic-3975', 'lyndhurst-vic-3975', 'lysterfield-vic-3156', 'lysterfield-south-vic-3156', 'macclesfield-vic-3782', 'macedon-vic-3440', 'macleod-vic-3085', 'maddingley-vic-3340', 'maidstone-vic-3012', 'main-ridge-vic-3928', 'malvern-vic-3144', 'malvern-east-vic-3145', 'mambourin-vic-3024', 'maribyrnong-vic-3032', 'maryknoll-vic-3812', 'mccrae-vic-3938', 'mckinnon-vic-3204', 'meadow-heights-vic-3048', 'melbourne-vic-3000', 'melbourne-airport-vic-3045', 'melton-vic-3337', 'melton-south-vic-3338', 'melton-west-vic-3337', 'mentone-vic-3194', 'menzies-creek-vic-3159', 'mernda-vic-3754', 'merricks-vic-3916', 'merricks-beach-vic-3926', 'merricks-north-vic-3926', 'merrimu-vic-3340', 'mickleham-vic-3064', 'middle-park-vic-3206', 'mill-park-vic-3082', 'millgrove-vic-3799', 'mitcham-vic-3132', 'monbulk-vic-3793', 'monegeetta-vic-3433', 'monomeith-vic-3984', 'mont-albert-vic-3127', 'mont-albert-north-vic-3129', 'montmorency-vic-3094', 'montrose-vic-3765', 'moonee-ponds-vic-3039', 'moorabbin-vic-3189', 'moorabbin-airport-vic-3194', 'moorooduc-vic-3933', 'mooroolbark-vic-3138', 'mordialloc-vic-3195', 'mornington-vic-3931', 'mount-burnett-vic-3781', 'mount-cottrell-vic-3024', 'mount-dandenong-vic-3767', 'mount-eliza-vic-3930', 'mount-evelyn-vic-3796', 'mount-macedon-vic-3441', 'mount-martha-vic-3934', 'mount-toolebewong-vic-3777', 'mount-waverley-vic-3149', 'mulgrave-vic-3170', 'murrumbeena-vic-3163', 'nangana-vic-3781', 'nar-nar-goon-vic-3812', 'nar-nar-goon-north-vic-3812', 'narre-warren-vic-3805', 'narre-warren-east-vic-3804', 'narre-warren-north-vic-3804', 'narre-warren-south-vic-3805', 'new-gisborne-vic-3438', 'newport-vic-3015', 'niddrie-vic-3042', 'noble-park-vic-3174', 'noble-park-north-vic-3174', 'north-melbourne-vic-3051', 'north-warrandyte-vic-3113', 'northcote-vic-3070', 'notting-hill-vic-3168', 'nunawading-vic-3131', 'nutfield-vic-3099', 'oak-park-vic-3046', 'oaklands-junction-vic-3063', 'oakleigh-vic-3166', 'oakleigh-east-vic-3166', 'oakleigh-south-vic-3167', 'officer-vic-3809', 'officer-south-vic-3809', 'olinda-vic-3788', 'ormond-vic-3204', 'pakenham-vic-3810', 'pakenham-south-vic-3810', 'pakenham-upper-vic-3810', 'panton-hill-vic-3759', 'park-orchards-vic-3114', 'parkdale-vic-3195', 'parkville-vic-3052', 'parwan-vic-3340', 'pascoe-vale-vic-3044', 'pascoe-vale-south-vic-3044', 'patterson-lakes-vic-3197', 'pearcedale-vic-3912', 'pentland-hills-vic-3341', 'pheasant-creek-vic-3757', 'plenty-vic-3090', 'plumpton-vic-3335', 'point-cook-vic-3030', 'point-leo-vic-3916', 'port-melbourne-vic-3207', 'portsea-vic-3944', 'powelltown-vic-3797', 'prahran-vic-3181', 'preston-vic-3072', 'princes-hill-vic-3054', 'quandong-vic-3030', 'ravenhall-vic-3023', 'red-hill-vic-3937', 'red-hill-south-vic-3937', 'research-vic-3095', 'reservoir-vic-3073', 'richmond-vic-3121', 'riddells-creek-vic-3431', 'ringwood-vic-3134', 'ringwood-east-vic-3135', 'ringwood-north-vic-3134', 'ripponlea-vic-3185', 'rochford-vic-3442', 'rockbank-vic-3335', 'romsey-vic-3434', 'rosanna-vic-3084', 'rosebud-vic-3939', 'rosebud-west-vic-3940', 'rowville-vic-3178', 'roxburgh-park-vic-3064', 'rye-vic-3941', 'rythdale-vic-3810', 'safety-beach-vic-3936', 'sandhurst-vic-3977', 'sandringham-vic-3191', 'sassafras-vic-3787', 'scoresby-vic-3179', 'seabrook-vic-3028', 'seaford-vic-3198', 'seaholme-vic-3018', 'seddon-vic-3011', 'selby-vic-3159', 'seville-vic-3139', 'seville-east-vic-3139', 'sherbrooke-vic-3789', 'shoreham-vic-3916', 'silvan-vic-3795', 'skye-vic-3977', 'smiths-gully-vic-3760', 'somers-vic-3927', 'somerton-vic-3062', 'somerville-vic-3912', 'sorrento-vic-3943', 'south-kingsville-vic-3015', 'south-melbourne-vic-3205', 'south-morang-vic-3752', 'south-wharf-vic-3006', 'south-yarra-vic-3141', 'southbank-vic-3006', 'spotswood-vic-3015', 'springfield-vic-3434', 'springvale-vic-3171', 'springvale-south-vic-3172', 'st-albans-vic-3021', 'st-andrews-vic-3761', 'st-andrews-beach-vic-3941', 'st-helena-vic-3088', 'st-kilda-vic-3182', 'st-kilda-east-vic-3183', 'st-kilda-west-vic-3182', 'steels-creek-vic-3775', 'strathewen-vic-3099', 'strathmore-vic-3041', 'strathmore-heights-vic-3041', 'sunbury-vic-3429', 'sunshine-vic-3020', 'sunshine-north-vic-3020', 'sunshine-west-vic-3020', 'surrey-hills-vic-3127', 'sydenham-vic-3037', 'tarneit-vic-3029', 'tarrawarra-vic-3775', 'taylors-hill-vic-3037', 'taylors-lakes-vic-3038', 'tecoma-vic-3160', 'templestowe-vic-3106', 'templestowe-lower-vic-3107', 'the-basin-vic-3154', 'the-patch-vic-3792', 'thomastown-vic-3074', 'thornbury-vic-3071', 'three-bridges-vic-3797', 'tonimbuk-vic-3815', 'toolangi-vic-3777', 'toolern-vale-vic-3337', 'tooradin-vic-3980', 'toorak-vic-3142', 'tootgarook-vic-3941', 'tottenham-vic-3012', 'travancore-vic-3032', 'tremont-vic-3785', 'truganina-vic-3029', 'tuerong-vic-3915', 'tullamarine-vic-3043', 'tyabb-vic-3913', 'tynong-vic-3813', 'tynong-north-vic-3813', 'upper-ferntree-gully-vic-3156', 'upper-plenty-vic-3756', 'upwey-vic-3158', 'vermont-vic-3133', 'vermont-south-vic-3133', 'vervale-vic-3814', 'viewbank-vic-3084', 'wallan-vic-3756', 'wandin-east-vic-3139', 'wandin-north-vic-3139', 'wandong-vic-3758', 'wantirna-vic-3152', 'wantirna-south-vic-3152', 'warburton-vic-3799', 'warneet-vic-3980', 'warrandyte-vic-3113', 'warrandyte-south-vic-3134', 'warranwood-vic-3134', 'waterford-park-vic-3658', 'waterways-vic-3195', 'watsonia-vic-3087', 'watsonia-north-vic-3087', 'watsons-creek-vic-3097', 'wattle-glen-vic-3096', 'werribee-vic-3030', 'werribee-south-vic-3030', 'wesburn-vic-3799', 'west-footscray-vic-3012', 'west-melbourne-vic-3003', 'westmeadows-vic-3049', 'wheelers-hill-vic-3150', 'whittlesea-vic-3757', 'wildwood-vic-3429', 'williams-landing-vic-3027', 'williamstown-vic-3016', 'williamstown-north-vic-3016', 'windsor-vic-3181', 'wollert-vic-3750', 'wonga-park-vic-3115', 'woodstock-vic-3751', 'woori-yallock-vic-3139', 'wyndham-vale-vic-3024', 'yallambie-vic-3085', 'yan-yean-vic-3755', 'yannathan-vic-3981', 'yarra-glen-vic-3775', 'yarra-junction-vic-3797', 'yarrambat-vic-3091', 'yarraville-vic-3013', 'yellingbo-vic-3139', 'yering-vic-3770', 'yuroke-vic-3063']\n"
     ]
    }
   ],
   "source": [
    "urls = []\n",
    "# Change the index to change the city\n",
    "city_list = ['Sydney','Melbourne','Brisbane','Adelaide','Perth']\n",
    "city = city_list[1]\n",
    "if city == 'Sydney':\n",
    "    suburbs_list = Sydney_suburbs\n",
    "elif city == 'Melbourne':\n",
    "    suburbs_list = Melbourne_suburbs\n",
    "elif city == 'Brisbane':\n",
    "    suburbs_list = Brisbane_suburbs\n",
    "elif city == 'Adelaide':\n",
    "    suburbs_list = Adelaide_suburbs\n",
    "elif city == 'Perth':\n",
    "    suburbs_list = Perth_suburbs\n",
    "\n",
    "\n",
    "\n",
    "print(f\"CHOSEN CITY: {city}\")\n",
    "if not os.path.exists(f\"../MLrealestate/data/{city}/\"):\n",
    "    os.mkdir(f\"../MLrealestate/data/{city}/\")\n",
    "print(suburbs_list)\n",
    "for suburb in suburbs_list:\n",
    "    urls.append(f\"https://www.domain.com.au/sold-listings/{suburb}/?excludepricewithheld=1&landsize=10-any&ssubs=0&page=\")\n",
    "\n",
    "house_list = []\n",
    "\n"
   ]
  },
  {
   "cell_type": "markdown",
   "metadata": {},
   "source": [
    "API CALL VIA PROXY"
   ]
  },
  {
   "cell_type": "code",
   "execution_count": null,
   "metadata": {},
   "outputs": [],
   "source": [
    "for url in urls:\n",
    "    max_pages = 50\n",
    "    for x in range(1,max_pages+1):\n",
    "        if x >= max_pages:\n",
    "            break\n",
    "        full_url = 'https://api.webscrapingapi.com/v1?api_key=35mtp7S9Io1GqEja5Up2GocPBGBv5Afr&url=' +urllib.parse.quote_plus(url+str(x))\n",
    "        print(full_url)\n",
    "        html_text = requests.get(full_url).text\n",
    "        soup = BeautifulSoup(html_text,'lxml')\n",
    "        if x ==1:\n",
    "            try:\n",
    "                max_pages = math.ceil(int(soup.find(attrs = {'data-testid':'summary'}).text.split(' ')[0])/20)\n",
    "                print(str(max_pages) + ' is the number of pages found')\n",
    "                if max_pages > 50:\n",
    "                    print(str(max_pages)+ ' is the number of max pages found but we are capping it to 50')\n",
    "                    max_pages = 50\n",
    "            except:\n",
    "                max_pages = 2\n",
    "        \n",
    "                \n",
    "            \n",
    "        houses = soup.find_all('li',class_= 'css-1qp9106')\n",
    "\n",
    "        for house in houses:\n",
    "\n",
    "            # Extract Data Sold & Method of Sale\n",
    "            date_method = house.find('span', class_='css-1nj9ymt').text\n",
    "            date_method_split = date_method.split(\" \")\n",
    "            date = f\"{date_method_split[-3]} {date_method_split[-2]} {date_method_split[-1]}\"\n",
    "            if \"auction\" in date_method:\n",
    "                method = 'auction'\n",
    "            elif \"private treaty\" in date_method:\n",
    "                method = 'private treaty'\n",
    "            else:\n",
    "                method = 'Another Method'\n",
    "\n",
    "            # Extract Address details\n",
    "            try:\n",
    "    \n",
    "                street = house.find('span', class_='css-iqrvhs',attrs={'data-testid': 'address-line1'}).text.replace(',','')\n",
    "                \n",
    "            except:\n",
    "                print('ISSUE FOUND WITH STREET')\n",
    "                street = 'No Street Found'\n",
    "            \n",
    "            try:\n",
    "                 address = house.find('span', class_='css-iqrvhs',attrs={'data-testid': 'address-line2'}).text\n",
    "                 address_split = address.split(' ')\n",
    "                 postcode = address_split[-1]\n",
    "                 state = address_split[-2]\n",
    "                 if len(address_split) == 4:\n",
    "                    suburb = f\"{address_split[0]} {address_split[1]}\"\n",
    "                 elif len(address_split) == 5:\n",
    "                    suburb = f\"{address_split[0]} {address_split[1]} {address_split[2]}\"\n",
    "                 else:\n",
    "                    suburb = address_split[0]\n",
    "                \n",
    "            except:\n",
    "                print('ISSUE FOUND WITH ADDRESS')\n",
    "            \n",
    "               \n",
    "            \n",
    "\n",
    "            \n",
    "            price = house.find('p', class_='css-mgq8yx').text.replace(' price from APM PriceFinder','').replace('$','').replace(',','')\n",
    "            type = house.find('span', class_='css-693528').text.replace('/ Unit / Flat','')\n",
    "\n",
    "            try:\n",
    "                features = house.find('div', class_ ='css-18biwo', attrs = {'data-testid':'property-features-wrapper'})\n",
    "                bedrooms = features.span.span.text[0]\n",
    "                if bedrooms == '−' or bedrooms is None:\n",
    "                    bedrooms = 0\n",
    "                bathrooms = features.span.next_sibling.span.text[0]\n",
    "                if bathrooms == '−' or bathrooms is None:\n",
    "                    bathrooms = 1\n",
    "                cars = features.span.next_sibling.next_sibling.span.text[0]\n",
    "                if cars == '−':\n",
    "                    cars = 0\n",
    "                if len(list(features.children)) == 4:\n",
    "                    area = features.span.next_sibling.next_sibling.next_sibling.span.text\n",
    "                else:\n",
    "                    area = 0\n",
    "            except:\n",
    "                bedrooms = 0\n",
    "                bathrooms = 0\n",
    "                cars = 0\n",
    "                area = 0\n",
    "                print(f\"No features found for {street} {address}\")\n",
    "\n",
    "            agent = house.find('div', class_='css-6yavch',attrs={'data-testid':'listing-card-lazy-image'})\n",
    "            if agent is None:\n",
    "                agent = 'UNKNOWN'\n",
    "            elif agent.img['alt'][0] == 'P':\n",
    "                agent = 'UNKNOWN'\n",
    "            else:\n",
    "                agent = agent.img['alt'].replace('Logo for ','')\n",
    "            \n",
    "            \n",
    "            \n",
    "        \n",
    "            house_details = {\n",
    "                'Street' : street,\n",
    "                'Address' : address,\n",
    "                'Suburb' : suburb,\n",
    "                'State' : state,\n",
    "                'Postcode' : postcode,\n",
    "                'Type' : type,\n",
    "                'Date': date,\n",
    "                'Method' : method,\n",
    "                'Price' : price,\n",
    "                'Bedrooms': bedrooms,\n",
    "                'Bathrooms': bathrooms,\n",
    "                'Cars' : cars,\n",
    "                'Area' : area,\n",
    "                'Agent' : agent\n",
    "            }\n",
    "            if (bedrooms == 0 and bathrooms == 0 and cars == 0 and area == 0) or street == 'No Street Found':\n",
    "                print(f\"{street} {address} house was NOT added\")\n",
    "            else:\n",
    "                house_list.append(house_details)\n",
    "               \n",
    "        print(str(len(house_list))+' houses added so far')\n",
    "        if len(house_list) > 100:\n",
    "            df = pd.DataFrame(house_list)\n",
    "            df.to_csv(f\"../MLrealestate/data/{city}/{city}_raw.csv\",mode='a', header = False, index = False)\n",
    "            house_list = []\n",
    "\n"
   ]
  },
  {
   "cell_type": "markdown",
   "metadata": {},
   "source": [
    "SAVING PANDAS DF TO CSV. PLEASE NOTE: WE ARE APPENDING TO CSV"
   ]
  },
  {
   "cell_type": "code",
   "execution_count": null,
   "metadata": {},
   "outputs": [],
   "source": [
    "\n",
    "\n",
    "df = pd.DataFrame(house_list)\n",
    "df.to_csv(f\"../MLrealestate/data/{city}/{city}_raw.csv\",mode='a', header = False, index = False)\n",
    "df.tail(6)"
   ]
  },
  {
   "cell_type": "markdown",
   "metadata": {},
   "source": [
    "Creating Latitude & Longitude columns from address"
   ]
  },
  {
   "cell_type": "code",
   "execution_count": 3,
   "metadata": {},
   "outputs": [
    {
     "name": "stdout",
     "output_type": "stream",
     "text": [
      "17 Inverness Avenue ,DERRIMUT VIC 3030,Australia was not able to find lat & long\n",
      "32 Britannia way ,LILYDALE VIC 3140,Australia was not able to find lat & long\n",
      "68 Bastow Road ,LILYDALE VIC 3140,Australia was not able to find lat & long\n"
     ]
    },
    {
     "name": "stderr",
     "output_type": "stream",
     "text": [
      "/tmp/ipykernel_415/2981532999.py:31: SettingWithCopyWarning: \n",
      "A value is trying to be set on a copy of a slice from a DataFrame.\n",
      "Try using .loc[row_indexer,col_indexer] = value instead\n",
      "\n",
      "See the caveats in the documentation: https://pandas.pydata.org/pandas-docs/stable/user_guide/indexing.html#returning-a-view-versus-a-copy\n",
      "  df_seg['Latitude'], df_seg['Longitude']  = vect_get_coordinates(df_seg.Street, df_seg.Address)\n",
      "/tmp/ipykernel_415/2981532999.py:31: SettingWithCopyWarning: \n",
      "A value is trying to be set on a copy of a slice from a DataFrame.\n",
      "Try using .loc[row_indexer,col_indexer] = value instead\n",
      "\n",
      "See the caveats in the documentation: https://pandas.pydata.org/pandas-docs/stable/user_guide/indexing.html#returning-a-view-versus-a-copy\n",
      "  df_seg['Latitude'], df_seg['Longitude']  = vect_get_coordinates(df_seg.Street, df_seg.Address)\n"
     ]
    },
    {
     "name": "stdout",
     "output_type": "stream",
     "text": [
      "PROCESSED: 1000 RECORDS OUT OF TOTAL 117523\n",
      "PROGRESS: 0.008508972711724513 % COMPLETED\n",
      "32 Noremac Grove ,LYNDHURST VIC 3975,Australia was not able to find lat & long\n"
     ]
    },
    {
     "name": "stderr",
     "output_type": "stream",
     "text": [
      "/tmp/ipykernel_415/2981532999.py:31: SettingWithCopyWarning: \n",
      "A value is trying to be set on a copy of a slice from a DataFrame.\n",
      "Try using .loc[row_indexer,col_indexer] = value instead\n",
      "\n",
      "See the caveats in the documentation: https://pandas.pydata.org/pandas-docs/stable/user_guide/indexing.html#returning-a-view-versus-a-copy\n",
      "  df_seg['Latitude'], df_seg['Longitude']  = vect_get_coordinates(df_seg.Street, df_seg.Address)\n",
      "/tmp/ipykernel_415/2981532999.py:31: SettingWithCopyWarning: \n",
      "A value is trying to be set on a copy of a slice from a DataFrame.\n",
      "Try using .loc[row_indexer,col_indexer] = value instead\n",
      "\n",
      "See the caveats in the documentation: https://pandas.pydata.org/pandas-docs/stable/user_guide/indexing.html#returning-a-view-versus-a-copy\n",
      "  df_seg['Latitude'], df_seg['Longitude']  = vect_get_coordinates(df_seg.Street, df_seg.Address)\n"
     ]
    },
    {
     "name": "stdout",
     "output_type": "stream",
     "text": [
      "PROCESSED: 2000 RECORDS OUT OF TOTAL 117523\n",
      "PROGRESS: 0.017017945423449025 % COMPLETED\n"
     ]
    },
    {
     "name": "stderr",
     "output_type": "stream",
     "text": [
      "/tmp/ipykernel_415/2981532999.py:31: SettingWithCopyWarning: \n",
      "A value is trying to be set on a copy of a slice from a DataFrame.\n",
      "Try using .loc[row_indexer,col_indexer] = value instead\n",
      "\n",
      "See the caveats in the documentation: https://pandas.pydata.org/pandas-docs/stable/user_guide/indexing.html#returning-a-view-versus-a-copy\n",
      "  df_seg['Latitude'], df_seg['Longitude']  = vect_get_coordinates(df_seg.Street, df_seg.Address)\n",
      "/tmp/ipykernel_415/2981532999.py:31: SettingWithCopyWarning: \n",
      "A value is trying to be set on a copy of a slice from a DataFrame.\n",
      "Try using .loc[row_indexer,col_indexer] = value instead\n",
      "\n",
      "See the caveats in the documentation: https://pandas.pydata.org/pandas-docs/stable/user_guide/indexing.html#returning-a-view-versus-a-copy\n",
      "  df_seg['Latitude'], df_seg['Longitude']  = vect_get_coordinates(df_seg.Street, df_seg.Address)\n"
     ]
    },
    {
     "name": "stdout",
     "output_type": "stream",
     "text": [
      "PROCESSED: 3000 RECORDS OUT OF TOTAL 117523\n",
      "PROGRESS: 0.02552691813517354 % COMPLETED\n"
     ]
    },
    {
     "name": "stderr",
     "output_type": "stream",
     "text": [
      "/tmp/ipykernel_415/2981532999.py:31: SettingWithCopyWarning: \n",
      "A value is trying to be set on a copy of a slice from a DataFrame.\n",
      "Try using .loc[row_indexer,col_indexer] = value instead\n",
      "\n",
      "See the caveats in the documentation: https://pandas.pydata.org/pandas-docs/stable/user_guide/indexing.html#returning-a-view-versus-a-copy\n",
      "  df_seg['Latitude'], df_seg['Longitude']  = vect_get_coordinates(df_seg.Street, df_seg.Address)\n",
      "/tmp/ipykernel_415/2981532999.py:31: SettingWithCopyWarning: \n",
      "A value is trying to be set on a copy of a slice from a DataFrame.\n",
      "Try using .loc[row_indexer,col_indexer] = value instead\n",
      "\n",
      "See the caveats in the documentation: https://pandas.pydata.org/pandas-docs/stable/user_guide/indexing.html#returning-a-view-versus-a-copy\n",
      "  df_seg['Latitude'], df_seg['Longitude']  = vect_get_coordinates(df_seg.Street, df_seg.Address)\n"
     ]
    },
    {
     "name": "stdout",
     "output_type": "stream",
     "text": [
      "PROCESSED: 4000 RECORDS OUT OF TOTAL 117523\n",
      "PROGRESS: 0.03403589084689805 % COMPLETED\n"
     ]
    },
    {
     "name": "stderr",
     "output_type": "stream",
     "text": [
      "/tmp/ipykernel_415/2981532999.py:31: SettingWithCopyWarning: \n",
      "A value is trying to be set on a copy of a slice from a DataFrame.\n",
      "Try using .loc[row_indexer,col_indexer] = value instead\n",
      "\n",
      "See the caveats in the documentation: https://pandas.pydata.org/pandas-docs/stable/user_guide/indexing.html#returning-a-view-versus-a-copy\n",
      "  df_seg['Latitude'], df_seg['Longitude']  = vect_get_coordinates(df_seg.Street, df_seg.Address)\n",
      "/tmp/ipykernel_415/2981532999.py:31: SettingWithCopyWarning: \n",
      "A value is trying to be set on a copy of a slice from a DataFrame.\n",
      "Try using .loc[row_indexer,col_indexer] = value instead\n",
      "\n",
      "See the caveats in the documentation: https://pandas.pydata.org/pandas-docs/stable/user_guide/indexing.html#returning-a-view-versus-a-copy\n",
      "  df_seg['Latitude'], df_seg['Longitude']  = vect_get_coordinates(df_seg.Street, df_seg.Address)\n"
     ]
    },
    {
     "name": "stdout",
     "output_type": "stream",
     "text": [
      "PROCESSED: 5000 RECORDS OUT OF TOTAL 117523\n",
      "PROGRESS: 0.04254486355862257 % COMPLETED\n"
     ]
    },
    {
     "name": "stderr",
     "output_type": "stream",
     "text": [
      "/tmp/ipykernel_415/2981532999.py:31: SettingWithCopyWarning: \n",
      "A value is trying to be set on a copy of a slice from a DataFrame.\n",
      "Try using .loc[row_indexer,col_indexer] = value instead\n",
      "\n",
      "See the caveats in the documentation: https://pandas.pydata.org/pandas-docs/stable/user_guide/indexing.html#returning-a-view-versus-a-copy\n",
      "  df_seg['Latitude'], df_seg['Longitude']  = vect_get_coordinates(df_seg.Street, df_seg.Address)\n",
      "/tmp/ipykernel_415/2981532999.py:31: SettingWithCopyWarning: \n",
      "A value is trying to be set on a copy of a slice from a DataFrame.\n",
      "Try using .loc[row_indexer,col_indexer] = value instead\n",
      "\n",
      "See the caveats in the documentation: https://pandas.pydata.org/pandas-docs/stable/user_guide/indexing.html#returning-a-view-versus-a-copy\n",
      "  df_seg['Latitude'], df_seg['Longitude']  = vect_get_coordinates(df_seg.Street, df_seg.Address)\n"
     ]
    },
    {
     "name": "stdout",
     "output_type": "stream",
     "text": [
      "PROCESSED: 6000 RECORDS OUT OF TOTAL 117523\n",
      "PROGRESS: 0.05105383627034708 % COMPLETED\n"
     ]
    },
    {
     "name": "stderr",
     "output_type": "stream",
     "text": [
      "/tmp/ipykernel_415/2981532999.py:31: SettingWithCopyWarning: \n",
      "A value is trying to be set on a copy of a slice from a DataFrame.\n",
      "Try using .loc[row_indexer,col_indexer] = value instead\n",
      "\n",
      "See the caveats in the documentation: https://pandas.pydata.org/pandas-docs/stable/user_guide/indexing.html#returning-a-view-versus-a-copy\n",
      "  df_seg['Latitude'], df_seg['Longitude']  = vect_get_coordinates(df_seg.Street, df_seg.Address)\n",
      "/tmp/ipykernel_415/2981532999.py:31: SettingWithCopyWarning: \n",
      "A value is trying to be set on a copy of a slice from a DataFrame.\n",
      "Try using .loc[row_indexer,col_indexer] = value instead\n",
      "\n",
      "See the caveats in the documentation: https://pandas.pydata.org/pandas-docs/stable/user_guide/indexing.html#returning-a-view-versus-a-copy\n",
      "  df_seg['Latitude'], df_seg['Longitude']  = vect_get_coordinates(df_seg.Street, df_seg.Address)\n"
     ]
    },
    {
     "name": "stdout",
     "output_type": "stream",
     "text": [
      "PROCESSED: 7000 RECORDS OUT OF TOTAL 117523\n",
      "PROGRESS: 0.05956280898207159 % COMPLETED\n"
     ]
    },
    {
     "name": "stderr",
     "output_type": "stream",
     "text": [
      "/tmp/ipykernel_415/2981532999.py:31: SettingWithCopyWarning: \n",
      "A value is trying to be set on a copy of a slice from a DataFrame.\n",
      "Try using .loc[row_indexer,col_indexer] = value instead\n",
      "\n",
      "See the caveats in the documentation: https://pandas.pydata.org/pandas-docs/stable/user_guide/indexing.html#returning-a-view-versus-a-copy\n",
      "  df_seg['Latitude'], df_seg['Longitude']  = vect_get_coordinates(df_seg.Street, df_seg.Address)\n",
      "/tmp/ipykernel_415/2981532999.py:31: SettingWithCopyWarning: \n",
      "A value is trying to be set on a copy of a slice from a DataFrame.\n",
      "Try using .loc[row_indexer,col_indexer] = value instead\n",
      "\n",
      "See the caveats in the documentation: https://pandas.pydata.org/pandas-docs/stable/user_guide/indexing.html#returning-a-view-versus-a-copy\n",
      "  df_seg['Latitude'], df_seg['Longitude']  = vect_get_coordinates(df_seg.Street, df_seg.Address)\n"
     ]
    },
    {
     "name": "stdout",
     "output_type": "stream",
     "text": [
      "PROCESSED: 8000 RECORDS OUT OF TOTAL 117523\n",
      "PROGRESS: 0.0680717816937961 % COMPLETED\n"
     ]
    },
    {
     "name": "stderr",
     "output_type": "stream",
     "text": [
      "/tmp/ipykernel_415/2981532999.py:31: SettingWithCopyWarning: \n",
      "A value is trying to be set on a copy of a slice from a DataFrame.\n",
      "Try using .loc[row_indexer,col_indexer] = value instead\n",
      "\n",
      "See the caveats in the documentation: https://pandas.pydata.org/pandas-docs/stable/user_guide/indexing.html#returning-a-view-versus-a-copy\n",
      "  df_seg['Latitude'], df_seg['Longitude']  = vect_get_coordinates(df_seg.Street, df_seg.Address)\n",
      "/tmp/ipykernel_415/2981532999.py:31: SettingWithCopyWarning: \n",
      "A value is trying to be set on a copy of a slice from a DataFrame.\n",
      "Try using .loc[row_indexer,col_indexer] = value instead\n",
      "\n",
      "See the caveats in the documentation: https://pandas.pydata.org/pandas-docs/stable/user_guide/indexing.html#returning-a-view-versus-a-copy\n",
      "  df_seg['Latitude'], df_seg['Longitude']  = vect_get_coordinates(df_seg.Street, df_seg.Address)\n"
     ]
    },
    {
     "name": "stdout",
     "output_type": "stream",
     "text": [
      "PROCESSED: 9000 RECORDS OUT OF TOTAL 117523\n",
      "PROGRESS: 0.07658075440552062 % COMPLETED\n"
     ]
    },
    {
     "name": "stderr",
     "output_type": "stream",
     "text": [
      "/tmp/ipykernel_415/2981532999.py:31: SettingWithCopyWarning: \n",
      "A value is trying to be set on a copy of a slice from a DataFrame.\n",
      "Try using .loc[row_indexer,col_indexer] = value instead\n",
      "\n",
      "See the caveats in the documentation: https://pandas.pydata.org/pandas-docs/stable/user_guide/indexing.html#returning-a-view-versus-a-copy\n",
      "  df_seg['Latitude'], df_seg['Longitude']  = vect_get_coordinates(df_seg.Street, df_seg.Address)\n",
      "/tmp/ipykernel_415/2981532999.py:31: SettingWithCopyWarning: \n",
      "A value is trying to be set on a copy of a slice from a DataFrame.\n",
      "Try using .loc[row_indexer,col_indexer] = value instead\n",
      "\n",
      "See the caveats in the documentation: https://pandas.pydata.org/pandas-docs/stable/user_guide/indexing.html#returning-a-view-versus-a-copy\n",
      "  df_seg['Latitude'], df_seg['Longitude']  = vect_get_coordinates(df_seg.Street, df_seg.Address)\n"
     ]
    },
    {
     "name": "stdout",
     "output_type": "stream",
     "text": [
      "PROCESSED: 10000 RECORDS OUT OF TOTAL 117523\n",
      "PROGRESS: 0.08508972711724513 % COMPLETED\n",
      "11 Gumleaf Lane ,MITCHAM VIC 3132,Australia was not able to find lat & long\n",
      "40 Williamson Road ,MONT ALBERT NORTH VIC 3129,Australia was not able to find lat & long\n"
     ]
    },
    {
     "name": "stderr",
     "output_type": "stream",
     "text": [
      "/tmp/ipykernel_415/2981532999.py:31: SettingWithCopyWarning: \n",
      "A value is trying to be set on a copy of a slice from a DataFrame.\n",
      "Try using .loc[row_indexer,col_indexer] = value instead\n",
      "\n",
      "See the caveats in the documentation: https://pandas.pydata.org/pandas-docs/stable/user_guide/indexing.html#returning-a-view-versus-a-copy\n",
      "  df_seg['Latitude'], df_seg['Longitude']  = vect_get_coordinates(df_seg.Street, df_seg.Address)\n",
      "/tmp/ipykernel_415/2981532999.py:31: SettingWithCopyWarning: \n",
      "A value is trying to be set on a copy of a slice from a DataFrame.\n",
      "Try using .loc[row_indexer,col_indexer] = value instead\n",
      "\n",
      "See the caveats in the documentation: https://pandas.pydata.org/pandas-docs/stable/user_guide/indexing.html#returning-a-view-versus-a-copy\n",
      "  df_seg['Latitude'], df_seg['Longitude']  = vect_get_coordinates(df_seg.Street, df_seg.Address)\n"
     ]
    },
    {
     "name": "stdout",
     "output_type": "stream",
     "text": [
      "PROCESSED: 11000 RECORDS OUT OF TOTAL 117523\n",
      "PROGRESS: 0.09359869982896965 % COMPLETED\n",
      "1A McFarlane Street ,MONTMORENCY VIC 3094,Australia was not able to find lat & long\n",
      "43a Napier Crescent ,MONTMORENCY VIC 3094,Australia was not able to find lat & long\n"
     ]
    },
    {
     "name": "stderr",
     "output_type": "stream",
     "text": [
      "/tmp/ipykernel_415/2981532999.py:31: SettingWithCopyWarning: \n",
      "A value is trying to be set on a copy of a slice from a DataFrame.\n",
      "Try using .loc[row_indexer,col_indexer] = value instead\n",
      "\n",
      "See the caveats in the documentation: https://pandas.pydata.org/pandas-docs/stable/user_guide/indexing.html#returning-a-view-versus-a-copy\n",
      "  df_seg['Latitude'], df_seg['Longitude']  = vect_get_coordinates(df_seg.Street, df_seg.Address)\n",
      "/tmp/ipykernel_415/2981532999.py:31: SettingWithCopyWarning: \n",
      "A value is trying to be set on a copy of a slice from a DataFrame.\n",
      "Try using .loc[row_indexer,col_indexer] = value instead\n",
      "\n",
      "See the caveats in the documentation: https://pandas.pydata.org/pandas-docs/stable/user_guide/indexing.html#returning-a-view-versus-a-copy\n",
      "  df_seg['Latitude'], df_seg['Longitude']  = vect_get_coordinates(df_seg.Street, df_seg.Address)\n"
     ]
    },
    {
     "name": "stdout",
     "output_type": "stream",
     "text": [
      "PROCESSED: 12000 RECORDS OUT OF TOTAL 117523\n",
      "PROGRESS: 0.10210767254069417 % COMPLETED\n",
      "56 Vine Street ,MOONEE PONDS VIC 3039,Australia was not able to find lat & long\n"
     ]
    },
    {
     "name": "stderr",
     "output_type": "stream",
     "text": [
      "/tmp/ipykernel_415/2981532999.py:31: SettingWithCopyWarning: \n",
      "A value is trying to be set on a copy of a slice from a DataFrame.\n",
      "Try using .loc[row_indexer,col_indexer] = value instead\n",
      "\n",
      "See the caveats in the documentation: https://pandas.pydata.org/pandas-docs/stable/user_guide/indexing.html#returning-a-view-versus-a-copy\n",
      "  df_seg['Latitude'], df_seg['Longitude']  = vect_get_coordinates(df_seg.Street, df_seg.Address)\n",
      "/tmp/ipykernel_415/2981532999.py:31: SettingWithCopyWarning: \n",
      "A value is trying to be set on a copy of a slice from a DataFrame.\n",
      "Try using .loc[row_indexer,col_indexer] = value instead\n",
      "\n",
      "See the caveats in the documentation: https://pandas.pydata.org/pandas-docs/stable/user_guide/indexing.html#returning-a-view-versus-a-copy\n",
      "  df_seg['Latitude'], df_seg['Longitude']  = vect_get_coordinates(df_seg.Street, df_seg.Address)\n"
     ]
    },
    {
     "name": "stdout",
     "output_type": "stream",
     "text": [
      "PROCESSED: 13000 RECORDS OUT OF TOTAL 117523\n",
      "PROGRESS: 0.11061664525241867 % COMPLETED\n"
     ]
    },
    {
     "name": "stderr",
     "output_type": "stream",
     "text": [
      "/tmp/ipykernel_415/2981532999.py:31: SettingWithCopyWarning: \n",
      "A value is trying to be set on a copy of a slice from a DataFrame.\n",
      "Try using .loc[row_indexer,col_indexer] = value instead\n",
      "\n",
      "See the caveats in the documentation: https://pandas.pydata.org/pandas-docs/stable/user_guide/indexing.html#returning-a-view-versus-a-copy\n",
      "  df_seg['Latitude'], df_seg['Longitude']  = vect_get_coordinates(df_seg.Street, df_seg.Address)\n",
      "/tmp/ipykernel_415/2981532999.py:31: SettingWithCopyWarning: \n",
      "A value is trying to be set on a copy of a slice from a DataFrame.\n",
      "Try using .loc[row_indexer,col_indexer] = value instead\n",
      "\n",
      "See the caveats in the documentation: https://pandas.pydata.org/pandas-docs/stable/user_guide/indexing.html#returning-a-view-versus-a-copy\n",
      "  df_seg['Latitude'], df_seg['Longitude']  = vect_get_coordinates(df_seg.Street, df_seg.Address)\n"
     ]
    },
    {
     "name": "stdout",
     "output_type": "stream",
     "text": [
      "PROCESSED: 14000 RECORDS OUT OF TOTAL 117523\n",
      "PROGRESS: 0.11912561796414319 % COMPLETED\n"
     ]
    },
    {
     "name": "stderr",
     "output_type": "stream",
     "text": [
      "/tmp/ipykernel_415/2981532999.py:31: SettingWithCopyWarning: \n",
      "A value is trying to be set on a copy of a slice from a DataFrame.\n",
      "Try using .loc[row_indexer,col_indexer] = value instead\n",
      "\n",
      "See the caveats in the documentation: https://pandas.pydata.org/pandas-docs/stable/user_guide/indexing.html#returning-a-view-versus-a-copy\n",
      "  df_seg['Latitude'], df_seg['Longitude']  = vect_get_coordinates(df_seg.Street, df_seg.Address)\n",
      "/tmp/ipykernel_415/2981532999.py:31: SettingWithCopyWarning: \n",
      "A value is trying to be set on a copy of a slice from a DataFrame.\n",
      "Try using .loc[row_indexer,col_indexer] = value instead\n",
      "\n",
      "See the caveats in the documentation: https://pandas.pydata.org/pandas-docs/stable/user_guide/indexing.html#returning-a-view-versus-a-copy\n",
      "  df_seg['Latitude'], df_seg['Longitude']  = vect_get_coordinates(df_seg.Street, df_seg.Address)\n"
     ]
    },
    {
     "name": "stdout",
     "output_type": "stream",
     "text": [
      "PROCESSED: 15000 RECORDS OUT OF TOTAL 117523\n",
      "PROGRESS: 0.12763459067586772 % COMPLETED\n"
     ]
    },
    {
     "name": "stderr",
     "output_type": "stream",
     "text": [
      "/tmp/ipykernel_415/2981532999.py:31: SettingWithCopyWarning: \n",
      "A value is trying to be set on a copy of a slice from a DataFrame.\n",
      "Try using .loc[row_indexer,col_indexer] = value instead\n",
      "\n",
      "See the caveats in the documentation: https://pandas.pydata.org/pandas-docs/stable/user_guide/indexing.html#returning-a-view-versus-a-copy\n",
      "  df_seg['Latitude'], df_seg['Longitude']  = vect_get_coordinates(df_seg.Street, df_seg.Address)\n",
      "/tmp/ipykernel_415/2981532999.py:31: SettingWithCopyWarning: \n",
      "A value is trying to be set on a copy of a slice from a DataFrame.\n",
      "Try using .loc[row_indexer,col_indexer] = value instead\n",
      "\n",
      "See the caveats in the documentation: https://pandas.pydata.org/pandas-docs/stable/user_guide/indexing.html#returning-a-view-versus-a-copy\n",
      "  df_seg['Latitude'], df_seg['Longitude']  = vect_get_coordinates(df_seg.Street, df_seg.Address)\n"
     ]
    },
    {
     "name": "stdout",
     "output_type": "stream",
     "text": [
      "PROCESSED: 16000 RECORDS OUT OF TOTAL 117523\n",
      "PROGRESS: 0.1361435633875922 % COMPLETED\n"
     ]
    },
    {
     "name": "stderr",
     "output_type": "stream",
     "text": [
      "/tmp/ipykernel_415/2981532999.py:31: SettingWithCopyWarning: \n",
      "A value is trying to be set on a copy of a slice from a DataFrame.\n",
      "Try using .loc[row_indexer,col_indexer] = value instead\n",
      "\n",
      "See the caveats in the documentation: https://pandas.pydata.org/pandas-docs/stable/user_guide/indexing.html#returning-a-view-versus-a-copy\n",
      "  df_seg['Latitude'], df_seg['Longitude']  = vect_get_coordinates(df_seg.Street, df_seg.Address)\n",
      "/tmp/ipykernel_415/2981532999.py:31: SettingWithCopyWarning: \n",
      "A value is trying to be set on a copy of a slice from a DataFrame.\n",
      "Try using .loc[row_indexer,col_indexer] = value instead\n",
      "\n",
      "See the caveats in the documentation: https://pandas.pydata.org/pandas-docs/stable/user_guide/indexing.html#returning-a-view-versus-a-copy\n",
      "  df_seg['Latitude'], df_seg['Longitude']  = vect_get_coordinates(df_seg.Street, df_seg.Address)\n"
     ]
    },
    {
     "name": "stdout",
     "output_type": "stream",
     "text": [
      "PROCESSED: 17000 RECORDS OUT OF TOTAL 117523\n",
      "PROGRESS: 0.14465253609931672 % COMPLETED\n"
     ]
    },
    {
     "name": "stderr",
     "output_type": "stream",
     "text": [
      "/tmp/ipykernel_415/2981532999.py:31: SettingWithCopyWarning: \n",
      "A value is trying to be set on a copy of a slice from a DataFrame.\n",
      "Try using .loc[row_indexer,col_indexer] = value instead\n",
      "\n",
      "See the caveats in the documentation: https://pandas.pydata.org/pandas-docs/stable/user_guide/indexing.html#returning-a-view-versus-a-copy\n",
      "  df_seg['Latitude'], df_seg['Longitude']  = vect_get_coordinates(df_seg.Street, df_seg.Address)\n",
      "/tmp/ipykernel_415/2981532999.py:31: SettingWithCopyWarning: \n",
      "A value is trying to be set on a copy of a slice from a DataFrame.\n",
      "Try using .loc[row_indexer,col_indexer] = value instead\n",
      "\n",
      "See the caveats in the documentation: https://pandas.pydata.org/pandas-docs/stable/user_guide/indexing.html#returning-a-view-versus-a-copy\n",
      "  df_seg['Latitude'], df_seg['Longitude']  = vect_get_coordinates(df_seg.Street, df_seg.Address)\n"
     ]
    },
    {
     "name": "stdout",
     "output_type": "stream",
     "text": [
      "PROCESSED: 18000 RECORDS OUT OF TOTAL 117523\n",
      "PROGRESS: 0.15316150881104124 % COMPLETED\n"
     ]
    },
    {
     "name": "stderr",
     "output_type": "stream",
     "text": [
      "/tmp/ipykernel_415/2981532999.py:31: SettingWithCopyWarning: \n",
      "A value is trying to be set on a copy of a slice from a DataFrame.\n",
      "Try using .loc[row_indexer,col_indexer] = value instead\n",
      "\n",
      "See the caveats in the documentation: https://pandas.pydata.org/pandas-docs/stable/user_guide/indexing.html#returning-a-view-versus-a-copy\n",
      "  df_seg['Latitude'], df_seg['Longitude']  = vect_get_coordinates(df_seg.Street, df_seg.Address)\n",
      "/tmp/ipykernel_415/2981532999.py:31: SettingWithCopyWarning: \n",
      "A value is trying to be set on a copy of a slice from a DataFrame.\n",
      "Try using .loc[row_indexer,col_indexer] = value instead\n",
      "\n",
      "See the caveats in the documentation: https://pandas.pydata.org/pandas-docs/stable/user_guide/indexing.html#returning-a-view-versus-a-copy\n",
      "  df_seg['Latitude'], df_seg['Longitude']  = vect_get_coordinates(df_seg.Street, df_seg.Address)\n"
     ]
    },
    {
     "name": "stdout",
     "output_type": "stream",
     "text": [
      "PROCESSED: 19000 RECORDS OUT OF TOTAL 117523\n",
      "PROGRESS: 0.16167048152276575 % COMPLETED\n"
     ]
    },
    {
     "name": "stderr",
     "output_type": "stream",
     "text": [
      "/tmp/ipykernel_415/2981532999.py:31: SettingWithCopyWarning: \n",
      "A value is trying to be set on a copy of a slice from a DataFrame.\n",
      "Try using .loc[row_indexer,col_indexer] = value instead\n",
      "\n",
      "See the caveats in the documentation: https://pandas.pydata.org/pandas-docs/stable/user_guide/indexing.html#returning-a-view-versus-a-copy\n",
      "  df_seg['Latitude'], df_seg['Longitude']  = vect_get_coordinates(df_seg.Street, df_seg.Address)\n",
      "/tmp/ipykernel_415/2981532999.py:31: SettingWithCopyWarning: \n",
      "A value is trying to be set on a copy of a slice from a DataFrame.\n",
      "Try using .loc[row_indexer,col_indexer] = value instead\n",
      "\n",
      "See the caveats in the documentation: https://pandas.pydata.org/pandas-docs/stable/user_guide/indexing.html#returning-a-view-versus-a-copy\n",
      "  df_seg['Latitude'], df_seg['Longitude']  = vect_get_coordinates(df_seg.Street, df_seg.Address)\n"
     ]
    },
    {
     "name": "stdout",
     "output_type": "stream",
     "text": [
      "PROCESSED: 20000 RECORDS OUT OF TOTAL 117523\n",
      "PROGRESS: 0.17017945423449027 % COMPLETED\n"
     ]
    },
    {
     "name": "stderr",
     "output_type": "stream",
     "text": [
      "/tmp/ipykernel_415/2981532999.py:31: SettingWithCopyWarning: \n",
      "A value is trying to be set on a copy of a slice from a DataFrame.\n",
      "Try using .loc[row_indexer,col_indexer] = value instead\n",
      "\n",
      "See the caveats in the documentation: https://pandas.pydata.org/pandas-docs/stable/user_guide/indexing.html#returning-a-view-versus-a-copy\n",
      "  df_seg['Latitude'], df_seg['Longitude']  = vect_get_coordinates(df_seg.Street, df_seg.Address)\n",
      "/tmp/ipykernel_415/2981532999.py:31: SettingWithCopyWarning: \n",
      "A value is trying to be set on a copy of a slice from a DataFrame.\n",
      "Try using .loc[row_indexer,col_indexer] = value instead\n",
      "\n",
      "See the caveats in the documentation: https://pandas.pydata.org/pandas-docs/stable/user_guide/indexing.html#returning-a-view-versus-a-copy\n",
      "  df_seg['Latitude'], df_seg['Longitude']  = vect_get_coordinates(df_seg.Street, df_seg.Address)\n"
     ]
    },
    {
     "name": "stdout",
     "output_type": "stream",
     "text": [
      "PROCESSED: 21000 RECORDS OUT OF TOTAL 117523\n",
      "PROGRESS: 0.17868842694621478 % COMPLETED\n"
     ]
    },
    {
     "name": "stderr",
     "output_type": "stream",
     "text": [
      "/tmp/ipykernel_415/2981532999.py:31: SettingWithCopyWarning: \n",
      "A value is trying to be set on a copy of a slice from a DataFrame.\n",
      "Try using .loc[row_indexer,col_indexer] = value instead\n",
      "\n",
      "See the caveats in the documentation: https://pandas.pydata.org/pandas-docs/stable/user_guide/indexing.html#returning-a-view-versus-a-copy\n",
      "  df_seg['Latitude'], df_seg['Longitude']  = vect_get_coordinates(df_seg.Street, df_seg.Address)\n",
      "/tmp/ipykernel_415/2981532999.py:31: SettingWithCopyWarning: \n",
      "A value is trying to be set on a copy of a slice from a DataFrame.\n",
      "Try using .loc[row_indexer,col_indexer] = value instead\n",
      "\n",
      "See the caveats in the documentation: https://pandas.pydata.org/pandas-docs/stable/user_guide/indexing.html#returning-a-view-versus-a-copy\n",
      "  df_seg['Latitude'], df_seg['Longitude']  = vect_get_coordinates(df_seg.Street, df_seg.Address)\n"
     ]
    },
    {
     "name": "stdout",
     "output_type": "stream",
     "text": [
      "PROCESSED: 22000 RECORDS OUT OF TOTAL 117523\n",
      "PROGRESS: 0.1871973996579393 % COMPLETED\n"
     ]
    },
    {
     "name": "stderr",
     "output_type": "stream",
     "text": [
      "/tmp/ipykernel_415/2981532999.py:31: SettingWithCopyWarning: \n",
      "A value is trying to be set on a copy of a slice from a DataFrame.\n",
      "Try using .loc[row_indexer,col_indexer] = value instead\n",
      "\n",
      "See the caveats in the documentation: https://pandas.pydata.org/pandas-docs/stable/user_guide/indexing.html#returning-a-view-versus-a-copy\n",
      "  df_seg['Latitude'], df_seg['Longitude']  = vect_get_coordinates(df_seg.Street, df_seg.Address)\n",
      "/tmp/ipykernel_415/2981532999.py:31: SettingWithCopyWarning: \n",
      "A value is trying to be set on a copy of a slice from a DataFrame.\n",
      "Try using .loc[row_indexer,col_indexer] = value instead\n",
      "\n",
      "See the caveats in the documentation: https://pandas.pydata.org/pandas-docs/stable/user_guide/indexing.html#returning-a-view-versus-a-copy\n",
      "  df_seg['Latitude'], df_seg['Longitude']  = vect_get_coordinates(df_seg.Street, df_seg.Address)\n"
     ]
    },
    {
     "name": "stdout",
     "output_type": "stream",
     "text": [
      "PROCESSED: 23000 RECORDS OUT OF TOTAL 117523\n",
      "PROGRESS: 0.19570637236966382 % COMPLETED\n",
      "2/521 Pascoe Vale Road ,PASCOE VALE VIC 3044,Australia was not able to find lat & long\n",
      "14 Oakbank Grove ,PASCOE VALE VIC 3044,Australia was not able to find lat & long\n",
      "67 Balmoral Avenue ,PASCOE VALE SOUTH VIC 3044,Australia was not able to find lat & long\n"
     ]
    },
    {
     "name": "stderr",
     "output_type": "stream",
     "text": [
      "/tmp/ipykernel_415/2981532999.py:31: SettingWithCopyWarning: \n",
      "A value is trying to be set on a copy of a slice from a DataFrame.\n",
      "Try using .loc[row_indexer,col_indexer] = value instead\n",
      "\n",
      "See the caveats in the documentation: https://pandas.pydata.org/pandas-docs/stable/user_guide/indexing.html#returning-a-view-versus-a-copy\n",
      "  df_seg['Latitude'], df_seg['Longitude']  = vect_get_coordinates(df_seg.Street, df_seg.Address)\n",
      "/tmp/ipykernel_415/2981532999.py:31: SettingWithCopyWarning: \n",
      "A value is trying to be set on a copy of a slice from a DataFrame.\n",
      "Try using .loc[row_indexer,col_indexer] = value instead\n",
      "\n",
      "See the caveats in the documentation: https://pandas.pydata.org/pandas-docs/stable/user_guide/indexing.html#returning-a-view-versus-a-copy\n",
      "  df_seg['Latitude'], df_seg['Longitude']  = vect_get_coordinates(df_seg.Street, df_seg.Address)\n"
     ]
    },
    {
     "name": "stdout",
     "output_type": "stream",
     "text": [
      "PROCESSED: 24000 RECORDS OUT OF TOTAL 117523\n",
      "PROGRESS: 0.20421534508138833 % COMPLETED\n",
      "51 Charles Drive ,PEARCEDALE VIC 3912,Australia was not able to find lat & long\n"
     ]
    },
    {
     "name": "stderr",
     "output_type": "stream",
     "text": [
      "/tmp/ipykernel_415/2981532999.py:31: SettingWithCopyWarning: \n",
      "A value is trying to be set on a copy of a slice from a DataFrame.\n",
      "Try using .loc[row_indexer,col_indexer] = value instead\n",
      "\n",
      "See the caveats in the documentation: https://pandas.pydata.org/pandas-docs/stable/user_guide/indexing.html#returning-a-view-versus-a-copy\n",
      "  df_seg['Latitude'], df_seg['Longitude']  = vect_get_coordinates(df_seg.Street, df_seg.Address)\n",
      "/tmp/ipykernel_415/2981532999.py:31: SettingWithCopyWarning: \n",
      "A value is trying to be set on a copy of a slice from a DataFrame.\n",
      "Try using .loc[row_indexer,col_indexer] = value instead\n",
      "\n",
      "See the caveats in the documentation: https://pandas.pydata.org/pandas-docs/stable/user_guide/indexing.html#returning-a-view-versus-a-copy\n",
      "  df_seg['Latitude'], df_seg['Longitude']  = vect_get_coordinates(df_seg.Street, df_seg.Address)\n"
     ]
    },
    {
     "name": "stdout",
     "output_type": "stream",
     "text": [
      "PROCESSED: 25000 RECORDS OUT OF TOTAL 117523\n",
      "PROGRESS: 0.21272431779311285 % COMPLETED\n"
     ]
    },
    {
     "name": "stderr",
     "output_type": "stream",
     "text": [
      "/tmp/ipykernel_415/2981532999.py:31: SettingWithCopyWarning: \n",
      "A value is trying to be set on a copy of a slice from a DataFrame.\n",
      "Try using .loc[row_indexer,col_indexer] = value instead\n",
      "\n",
      "See the caveats in the documentation: https://pandas.pydata.org/pandas-docs/stable/user_guide/indexing.html#returning-a-view-versus-a-copy\n",
      "  df_seg['Latitude'], df_seg['Longitude']  = vect_get_coordinates(df_seg.Street, df_seg.Address)\n",
      "/tmp/ipykernel_415/2981532999.py:31: SettingWithCopyWarning: \n",
      "A value is trying to be set on a copy of a slice from a DataFrame.\n",
      "Try using .loc[row_indexer,col_indexer] = value instead\n",
      "\n",
      "See the caveats in the documentation: https://pandas.pydata.org/pandas-docs/stable/user_guide/indexing.html#returning-a-view-versus-a-copy\n",
      "  df_seg['Latitude'], df_seg['Longitude']  = vect_get_coordinates(df_seg.Street, df_seg.Address)\n"
     ]
    },
    {
     "name": "stdout",
     "output_type": "stream",
     "text": [
      "PROCESSED: 26000 RECORDS OUT OF TOTAL 117523\n",
      "PROGRESS: 0.22123329050483734 % COMPLETED\n"
     ]
    },
    {
     "name": "stderr",
     "output_type": "stream",
     "text": [
      "/tmp/ipykernel_415/2981532999.py:31: SettingWithCopyWarning: \n",
      "A value is trying to be set on a copy of a slice from a DataFrame.\n",
      "Try using .loc[row_indexer,col_indexer] = value instead\n",
      "\n",
      "See the caveats in the documentation: https://pandas.pydata.org/pandas-docs/stable/user_guide/indexing.html#returning-a-view-versus-a-copy\n",
      "  df_seg['Latitude'], df_seg['Longitude']  = vect_get_coordinates(df_seg.Street, df_seg.Address)\n",
      "/tmp/ipykernel_415/2981532999.py:31: SettingWithCopyWarning: \n",
      "A value is trying to be set on a copy of a slice from a DataFrame.\n",
      "Try using .loc[row_indexer,col_indexer] = value instead\n",
      "\n",
      "See the caveats in the documentation: https://pandas.pydata.org/pandas-docs/stable/user_guide/indexing.html#returning-a-view-versus-a-copy\n",
      "  df_seg['Latitude'], df_seg['Longitude']  = vect_get_coordinates(df_seg.Street, df_seg.Address)\n"
     ]
    },
    {
     "name": "stdout",
     "output_type": "stream",
     "text": [
      "PROCESSED: 27000 RECORDS OUT OF TOTAL 117523\n",
      "PROGRESS: 0.22974226321656185 % COMPLETED\n"
     ]
    },
    {
     "name": "stderr",
     "output_type": "stream",
     "text": [
      "/tmp/ipykernel_415/2981532999.py:31: SettingWithCopyWarning: \n",
      "A value is trying to be set on a copy of a slice from a DataFrame.\n",
      "Try using .loc[row_indexer,col_indexer] = value instead\n",
      "\n",
      "See the caveats in the documentation: https://pandas.pydata.org/pandas-docs/stable/user_guide/indexing.html#returning-a-view-versus-a-copy\n",
      "  df_seg['Latitude'], df_seg['Longitude']  = vect_get_coordinates(df_seg.Street, df_seg.Address)\n",
      "/tmp/ipykernel_415/2981532999.py:31: SettingWithCopyWarning: \n",
      "A value is trying to be set on a copy of a slice from a DataFrame.\n",
      "Try using .loc[row_indexer,col_indexer] = value instead\n",
      "\n",
      "See the caveats in the documentation: https://pandas.pydata.org/pandas-docs/stable/user_guide/indexing.html#returning-a-view-versus-a-copy\n",
      "  df_seg['Latitude'], df_seg['Longitude']  = vect_get_coordinates(df_seg.Street, df_seg.Address)\n"
     ]
    },
    {
     "name": "stdout",
     "output_type": "stream",
     "text": [
      "PROCESSED: 28000 RECORDS OUT OF TOTAL 117523\n",
      "PROGRESS: 0.23825123592828637 % COMPLETED\n"
     ]
    },
    {
     "name": "stderr",
     "output_type": "stream",
     "text": [
      "/tmp/ipykernel_415/2981532999.py:31: SettingWithCopyWarning: \n",
      "A value is trying to be set on a copy of a slice from a DataFrame.\n",
      "Try using .loc[row_indexer,col_indexer] = value instead\n",
      "\n",
      "See the caveats in the documentation: https://pandas.pydata.org/pandas-docs/stable/user_guide/indexing.html#returning-a-view-versus-a-copy\n",
      "  df_seg['Latitude'], df_seg['Longitude']  = vect_get_coordinates(df_seg.Street, df_seg.Address)\n",
      "/tmp/ipykernel_415/2981532999.py:31: SettingWithCopyWarning: \n",
      "A value is trying to be set on a copy of a slice from a DataFrame.\n",
      "Try using .loc[row_indexer,col_indexer] = value instead\n",
      "\n",
      "See the caveats in the documentation: https://pandas.pydata.org/pandas-docs/stable/user_guide/indexing.html#returning-a-view-versus-a-copy\n",
      "  df_seg['Latitude'], df_seg['Longitude']  = vect_get_coordinates(df_seg.Street, df_seg.Address)\n"
     ]
    },
    {
     "name": "stdout",
     "output_type": "stream",
     "text": [
      "PROCESSED: 29000 RECORDS OUT OF TOTAL 117523\n",
      "PROGRESS: 0.2467602086400109 % COMPLETED\n"
     ]
    },
    {
     "name": "stderr",
     "output_type": "stream",
     "text": [
      "/tmp/ipykernel_415/2981532999.py:31: SettingWithCopyWarning: \n",
      "A value is trying to be set on a copy of a slice from a DataFrame.\n",
      "Try using .loc[row_indexer,col_indexer] = value instead\n",
      "\n",
      "See the caveats in the documentation: https://pandas.pydata.org/pandas-docs/stable/user_guide/indexing.html#returning-a-view-versus-a-copy\n",
      "  df_seg['Latitude'], df_seg['Longitude']  = vect_get_coordinates(df_seg.Street, df_seg.Address)\n",
      "/tmp/ipykernel_415/2981532999.py:31: SettingWithCopyWarning: \n",
      "A value is trying to be set on a copy of a slice from a DataFrame.\n",
      "Try using .loc[row_indexer,col_indexer] = value instead\n",
      "\n",
      "See the caveats in the documentation: https://pandas.pydata.org/pandas-docs/stable/user_guide/indexing.html#returning-a-view-versus-a-copy\n",
      "  df_seg['Latitude'], df_seg['Longitude']  = vect_get_coordinates(df_seg.Street, df_seg.Address)\n"
     ]
    },
    {
     "name": "stdout",
     "output_type": "stream",
     "text": [
      "PROCESSED: 30000 RECORDS OUT OF TOTAL 117523\n",
      "PROGRESS: 0.25526918135173543 % COMPLETED\n"
     ]
    },
    {
     "name": "stderr",
     "output_type": "stream",
     "text": [
      "/tmp/ipykernel_415/2981532999.py:31: SettingWithCopyWarning: \n",
      "A value is trying to be set on a copy of a slice from a DataFrame.\n",
      "Try using .loc[row_indexer,col_indexer] = value instead\n",
      "\n",
      "See the caveats in the documentation: https://pandas.pydata.org/pandas-docs/stable/user_guide/indexing.html#returning-a-view-versus-a-copy\n",
      "  df_seg['Latitude'], df_seg['Longitude']  = vect_get_coordinates(df_seg.Street, df_seg.Address)\n",
      "/tmp/ipykernel_415/2981532999.py:31: SettingWithCopyWarning: \n",
      "A value is trying to be set on a copy of a slice from a DataFrame.\n",
      "Try using .loc[row_indexer,col_indexer] = value instead\n",
      "\n",
      "See the caveats in the documentation: https://pandas.pydata.org/pandas-docs/stable/user_guide/indexing.html#returning-a-view-versus-a-copy\n",
      "  df_seg['Latitude'], df_seg['Longitude']  = vect_get_coordinates(df_seg.Street, df_seg.Address)\n"
     ]
    },
    {
     "name": "stdout",
     "output_type": "stream",
     "text": [
      "PROCESSED: 31000 RECORDS OUT OF TOTAL 117523\n",
      "PROGRESS: 0.2637781540634599 % COMPLETED\n"
     ]
    },
    {
     "name": "stderr",
     "output_type": "stream",
     "text": [
      "/tmp/ipykernel_415/2981532999.py:31: SettingWithCopyWarning: \n",
      "A value is trying to be set on a copy of a slice from a DataFrame.\n",
      "Try using .loc[row_indexer,col_indexer] = value instead\n",
      "\n",
      "See the caveats in the documentation: https://pandas.pydata.org/pandas-docs/stable/user_guide/indexing.html#returning-a-view-versus-a-copy\n",
      "  df_seg['Latitude'], df_seg['Longitude']  = vect_get_coordinates(df_seg.Street, df_seg.Address)\n",
      "/tmp/ipykernel_415/2981532999.py:31: SettingWithCopyWarning: \n",
      "A value is trying to be set on a copy of a slice from a DataFrame.\n",
      "Try using .loc[row_indexer,col_indexer] = value instead\n",
      "\n",
      "See the caveats in the documentation: https://pandas.pydata.org/pandas-docs/stable/user_guide/indexing.html#returning-a-view-versus-a-copy\n",
      "  df_seg['Latitude'], df_seg['Longitude']  = vect_get_coordinates(df_seg.Street, df_seg.Address)\n"
     ]
    },
    {
     "name": "stdout",
     "output_type": "stream",
     "text": [
      "PROCESSED: 32000 RECORDS OUT OF TOTAL 117523\n",
      "PROGRESS: 0.2722871267751844 % COMPLETED\n"
     ]
    },
    {
     "name": "stderr",
     "output_type": "stream",
     "text": [
      "/tmp/ipykernel_415/2981532999.py:31: SettingWithCopyWarning: \n",
      "A value is trying to be set on a copy of a slice from a DataFrame.\n",
      "Try using .loc[row_indexer,col_indexer] = value instead\n",
      "\n",
      "See the caveats in the documentation: https://pandas.pydata.org/pandas-docs/stable/user_guide/indexing.html#returning-a-view-versus-a-copy\n",
      "  df_seg['Latitude'], df_seg['Longitude']  = vect_get_coordinates(df_seg.Street, df_seg.Address)\n",
      "/tmp/ipykernel_415/2981532999.py:31: SettingWithCopyWarning: \n",
      "A value is trying to be set on a copy of a slice from a DataFrame.\n",
      "Try using .loc[row_indexer,col_indexer] = value instead\n",
      "\n",
      "See the caveats in the documentation: https://pandas.pydata.org/pandas-docs/stable/user_guide/indexing.html#returning-a-view-versus-a-copy\n",
      "  df_seg['Latitude'], df_seg['Longitude']  = vect_get_coordinates(df_seg.Street, df_seg.Address)\n"
     ]
    },
    {
     "name": "stdout",
     "output_type": "stream",
     "text": [
      "PROCESSED: 33000 RECORDS OUT OF TOTAL 117523\n",
      "PROGRESS: 0.2807960994869089 % COMPLETED\n"
     ]
    },
    {
     "name": "stderr",
     "output_type": "stream",
     "text": [
      "/tmp/ipykernel_415/2981532999.py:31: SettingWithCopyWarning: \n",
      "A value is trying to be set on a copy of a slice from a DataFrame.\n",
      "Try using .loc[row_indexer,col_indexer] = value instead\n",
      "\n",
      "See the caveats in the documentation: https://pandas.pydata.org/pandas-docs/stable/user_guide/indexing.html#returning-a-view-versus-a-copy\n",
      "  df_seg['Latitude'], df_seg['Longitude']  = vect_get_coordinates(df_seg.Street, df_seg.Address)\n",
      "/tmp/ipykernel_415/2981532999.py:31: SettingWithCopyWarning: \n",
      "A value is trying to be set on a copy of a slice from a DataFrame.\n",
      "Try using .loc[row_indexer,col_indexer] = value instead\n",
      "\n",
      "See the caveats in the documentation: https://pandas.pydata.org/pandas-docs/stable/user_guide/indexing.html#returning-a-view-versus-a-copy\n",
      "  df_seg['Latitude'], df_seg['Longitude']  = vect_get_coordinates(df_seg.Street, df_seg.Address)\n"
     ]
    },
    {
     "name": "stdout",
     "output_type": "stream",
     "text": [
      "PROCESSED: 34000 RECORDS OUT OF TOTAL 117523\n",
      "PROGRESS: 0.28930507219863344 % COMPLETED\n",
      "164 Bungower Road ,SOMERVILLE VIC 3912,Australia was not able to find lat & long\n"
     ]
    },
    {
     "name": "stderr",
     "output_type": "stream",
     "text": [
      "/tmp/ipykernel_415/2981532999.py:31: SettingWithCopyWarning: \n",
      "A value is trying to be set on a copy of a slice from a DataFrame.\n",
      "Try using .loc[row_indexer,col_indexer] = value instead\n",
      "\n",
      "See the caveats in the documentation: https://pandas.pydata.org/pandas-docs/stable/user_guide/indexing.html#returning-a-view-versus-a-copy\n",
      "  df_seg['Latitude'], df_seg['Longitude']  = vect_get_coordinates(df_seg.Street, df_seg.Address)\n",
      "/tmp/ipykernel_415/2981532999.py:31: SettingWithCopyWarning: \n",
      "A value is trying to be set on a copy of a slice from a DataFrame.\n",
      "Try using .loc[row_indexer,col_indexer] = value instead\n",
      "\n",
      "See the caveats in the documentation: https://pandas.pydata.org/pandas-docs/stable/user_guide/indexing.html#returning-a-view-versus-a-copy\n",
      "  df_seg['Latitude'], df_seg['Longitude']  = vect_get_coordinates(df_seg.Street, df_seg.Address)\n"
     ]
    },
    {
     "name": "stdout",
     "output_type": "stream",
     "text": [
      "PROCESSED: 35000 RECORDS OUT OF TOTAL 117523\n",
      "PROGRESS: 0.29781404491035796 % COMPLETED\n"
     ]
    },
    {
     "name": "stderr",
     "output_type": "stream",
     "text": [
      "/tmp/ipykernel_415/2981532999.py:31: SettingWithCopyWarning: \n",
      "A value is trying to be set on a copy of a slice from a DataFrame.\n",
      "Try using .loc[row_indexer,col_indexer] = value instead\n",
      "\n",
      "See the caveats in the documentation: https://pandas.pydata.org/pandas-docs/stable/user_guide/indexing.html#returning-a-view-versus-a-copy\n",
      "  df_seg['Latitude'], df_seg['Longitude']  = vect_get_coordinates(df_seg.Street, df_seg.Address)\n",
      "/tmp/ipykernel_415/2981532999.py:31: SettingWithCopyWarning: \n",
      "A value is trying to be set on a copy of a slice from a DataFrame.\n",
      "Try using .loc[row_indexer,col_indexer] = value instead\n",
      "\n",
      "See the caveats in the documentation: https://pandas.pydata.org/pandas-docs/stable/user_guide/indexing.html#returning-a-view-versus-a-copy\n",
      "  df_seg['Latitude'], df_seg['Longitude']  = vect_get_coordinates(df_seg.Street, df_seg.Address)\n"
     ]
    },
    {
     "name": "stdout",
     "output_type": "stream",
     "text": [
      "PROCESSED: 36000 RECORDS OUT OF TOTAL 117523\n",
      "PROGRESS: 0.30632301762208247 % COMPLETED\n"
     ]
    },
    {
     "name": "stderr",
     "output_type": "stream",
     "text": [
      "/tmp/ipykernel_415/2981532999.py:31: SettingWithCopyWarning: \n",
      "A value is trying to be set on a copy of a slice from a DataFrame.\n",
      "Try using .loc[row_indexer,col_indexer] = value instead\n",
      "\n",
      "See the caveats in the documentation: https://pandas.pydata.org/pandas-docs/stable/user_guide/indexing.html#returning-a-view-versus-a-copy\n",
      "  df_seg['Latitude'], df_seg['Longitude']  = vect_get_coordinates(df_seg.Street, df_seg.Address)\n",
      "/tmp/ipykernel_415/2981532999.py:31: SettingWithCopyWarning: \n",
      "A value is trying to be set on a copy of a slice from a DataFrame.\n",
      "Try using .loc[row_indexer,col_indexer] = value instead\n",
      "\n",
      "See the caveats in the documentation: https://pandas.pydata.org/pandas-docs/stable/user_guide/indexing.html#returning-a-view-versus-a-copy\n",
      "  df_seg['Latitude'], df_seg['Longitude']  = vect_get_coordinates(df_seg.Street, df_seg.Address)\n"
     ]
    },
    {
     "name": "stdout",
     "output_type": "stream",
     "text": [
      "PROCESSED: 37000 RECORDS OUT OF TOTAL 117523\n",
      "PROGRESS: 0.314831990333807 % COMPLETED\n"
     ]
    },
    {
     "name": "stderr",
     "output_type": "stream",
     "text": [
      "/tmp/ipykernel_415/2981532999.py:31: SettingWithCopyWarning: \n",
      "A value is trying to be set on a copy of a slice from a DataFrame.\n",
      "Try using .loc[row_indexer,col_indexer] = value instead\n",
      "\n",
      "See the caveats in the documentation: https://pandas.pydata.org/pandas-docs/stable/user_guide/indexing.html#returning-a-view-versus-a-copy\n",
      "  df_seg['Latitude'], df_seg['Longitude']  = vect_get_coordinates(df_seg.Street, df_seg.Address)\n",
      "/tmp/ipykernel_415/2981532999.py:31: SettingWithCopyWarning: \n",
      "A value is trying to be set on a copy of a slice from a DataFrame.\n",
      "Try using .loc[row_indexer,col_indexer] = value instead\n",
      "\n",
      "See the caveats in the documentation: https://pandas.pydata.org/pandas-docs/stable/user_guide/indexing.html#returning-a-view-versus-a-copy\n",
      "  df_seg['Latitude'], df_seg['Longitude']  = vect_get_coordinates(df_seg.Street, df_seg.Address)\n"
     ]
    },
    {
     "name": "stdout",
     "output_type": "stream",
     "text": [
      "PROCESSED: 38000 RECORDS OUT OF TOTAL 117523\n",
      "PROGRESS: 0.3233409630455315 % COMPLETED\n"
     ]
    },
    {
     "name": "stderr",
     "output_type": "stream",
     "text": [
      "/tmp/ipykernel_415/2981532999.py:31: SettingWithCopyWarning: \n",
      "A value is trying to be set on a copy of a slice from a DataFrame.\n",
      "Try using .loc[row_indexer,col_indexer] = value instead\n",
      "\n",
      "See the caveats in the documentation: https://pandas.pydata.org/pandas-docs/stable/user_guide/indexing.html#returning-a-view-versus-a-copy\n",
      "  df_seg['Latitude'], df_seg['Longitude']  = vect_get_coordinates(df_seg.Street, df_seg.Address)\n",
      "/tmp/ipykernel_415/2981532999.py:31: SettingWithCopyWarning: \n",
      "A value is trying to be set on a copy of a slice from a DataFrame.\n",
      "Try using .loc[row_indexer,col_indexer] = value instead\n",
      "\n",
      "See the caveats in the documentation: https://pandas.pydata.org/pandas-docs/stable/user_guide/indexing.html#returning-a-view-versus-a-copy\n",
      "  df_seg['Latitude'], df_seg['Longitude']  = vect_get_coordinates(df_seg.Street, df_seg.Address)\n"
     ]
    },
    {
     "name": "stdout",
     "output_type": "stream",
     "text": [
      "PROCESSED: 39000 RECORDS OUT OF TOTAL 117523\n",
      "PROGRESS: 0.331849935757256 % COMPLETED\n"
     ]
    },
    {
     "name": "stderr",
     "output_type": "stream",
     "text": [
      "/tmp/ipykernel_415/2981532999.py:31: SettingWithCopyWarning: \n",
      "A value is trying to be set on a copy of a slice from a DataFrame.\n",
      "Try using .loc[row_indexer,col_indexer] = value instead\n",
      "\n",
      "See the caveats in the documentation: https://pandas.pydata.org/pandas-docs/stable/user_guide/indexing.html#returning-a-view-versus-a-copy\n",
      "  df_seg['Latitude'], df_seg['Longitude']  = vect_get_coordinates(df_seg.Street, df_seg.Address)\n",
      "/tmp/ipykernel_415/2981532999.py:31: SettingWithCopyWarning: \n",
      "A value is trying to be set on a copy of a slice from a DataFrame.\n",
      "Try using .loc[row_indexer,col_indexer] = value instead\n",
      "\n",
      "See the caveats in the documentation: https://pandas.pydata.org/pandas-docs/stable/user_guide/indexing.html#returning-a-view-versus-a-copy\n",
      "  df_seg['Latitude'], df_seg['Longitude']  = vect_get_coordinates(df_seg.Street, df_seg.Address)\n"
     ]
    },
    {
     "name": "stdout",
     "output_type": "stream",
     "text": [
      "PROCESSED: 40000 RECORDS OUT OF TOTAL 117523\n",
      "PROGRESS: 0.34035890846898054 % COMPLETED\n"
     ]
    },
    {
     "name": "stderr",
     "output_type": "stream",
     "text": [
      "/tmp/ipykernel_415/2981532999.py:31: SettingWithCopyWarning: \n",
      "A value is trying to be set on a copy of a slice from a DataFrame.\n",
      "Try using .loc[row_indexer,col_indexer] = value instead\n",
      "\n",
      "See the caveats in the documentation: https://pandas.pydata.org/pandas-docs/stable/user_guide/indexing.html#returning-a-view-versus-a-copy\n",
      "  df_seg['Latitude'], df_seg['Longitude']  = vect_get_coordinates(df_seg.Street, df_seg.Address)\n",
      "/tmp/ipykernel_415/2981532999.py:31: SettingWithCopyWarning: \n",
      "A value is trying to be set on a copy of a slice from a DataFrame.\n",
      "Try using .loc[row_indexer,col_indexer] = value instead\n",
      "\n",
      "See the caveats in the documentation: https://pandas.pydata.org/pandas-docs/stable/user_guide/indexing.html#returning-a-view-versus-a-copy\n",
      "  df_seg['Latitude'], df_seg['Longitude']  = vect_get_coordinates(df_seg.Street, df_seg.Address)\n"
     ]
    },
    {
     "name": "stdout",
     "output_type": "stream",
     "text": [
      "PROCESSED: 41000 RECORDS OUT OF TOTAL 117523\n",
      "PROGRESS: 0.34886788118070505 % COMPLETED\n"
     ]
    },
    {
     "name": "stderr",
     "output_type": "stream",
     "text": [
      "/tmp/ipykernel_415/2981532999.py:31: SettingWithCopyWarning: \n",
      "A value is trying to be set on a copy of a slice from a DataFrame.\n",
      "Try using .loc[row_indexer,col_indexer] = value instead\n",
      "\n",
      "See the caveats in the documentation: https://pandas.pydata.org/pandas-docs/stable/user_guide/indexing.html#returning-a-view-versus-a-copy\n",
      "  df_seg['Latitude'], df_seg['Longitude']  = vect_get_coordinates(df_seg.Street, df_seg.Address)\n",
      "/tmp/ipykernel_415/2981532999.py:31: SettingWithCopyWarning: \n",
      "A value is trying to be set on a copy of a slice from a DataFrame.\n",
      "Try using .loc[row_indexer,col_indexer] = value instead\n",
      "\n",
      "See the caveats in the documentation: https://pandas.pydata.org/pandas-docs/stable/user_guide/indexing.html#returning-a-view-versus-a-copy\n",
      "  df_seg['Latitude'], df_seg['Longitude']  = vect_get_coordinates(df_seg.Street, df_seg.Address)\n"
     ]
    },
    {
     "name": "stdout",
     "output_type": "stream",
     "text": [
      "PROCESSED: 42000 RECORDS OUT OF TOTAL 117523\n",
      "PROGRESS: 0.35737685389242957 % COMPLETED\n"
     ]
    },
    {
     "name": "stderr",
     "output_type": "stream",
     "text": [
      "/tmp/ipykernel_415/2981532999.py:31: SettingWithCopyWarning: \n",
      "A value is trying to be set on a copy of a slice from a DataFrame.\n",
      "Try using .loc[row_indexer,col_indexer] = value instead\n",
      "\n",
      "See the caveats in the documentation: https://pandas.pydata.org/pandas-docs/stable/user_guide/indexing.html#returning-a-view-versus-a-copy\n",
      "  df_seg['Latitude'], df_seg['Longitude']  = vect_get_coordinates(df_seg.Street, df_seg.Address)\n",
      "/tmp/ipykernel_415/2981532999.py:31: SettingWithCopyWarning: \n",
      "A value is trying to be set on a copy of a slice from a DataFrame.\n",
      "Try using .loc[row_indexer,col_indexer] = value instead\n",
      "\n",
      "See the caveats in the documentation: https://pandas.pydata.org/pandas-docs/stable/user_guide/indexing.html#returning-a-view-versus-a-copy\n",
      "  df_seg['Latitude'], df_seg['Longitude']  = vect_get_coordinates(df_seg.Street, df_seg.Address)\n"
     ]
    },
    {
     "name": "stdout",
     "output_type": "stream",
     "text": [
      "PROCESSED: 43000 RECORDS OUT OF TOTAL 117523\n",
      "PROGRESS: 0.3658858266041541 % COMPLETED\n"
     ]
    },
    {
     "name": "stderr",
     "output_type": "stream",
     "text": [
      "/tmp/ipykernel_415/2981532999.py:31: SettingWithCopyWarning: \n",
      "A value is trying to be set on a copy of a slice from a DataFrame.\n",
      "Try using .loc[row_indexer,col_indexer] = value instead\n",
      "\n",
      "See the caveats in the documentation: https://pandas.pydata.org/pandas-docs/stable/user_guide/indexing.html#returning-a-view-versus-a-copy\n",
      "  df_seg['Latitude'], df_seg['Longitude']  = vect_get_coordinates(df_seg.Street, df_seg.Address)\n",
      "/tmp/ipykernel_415/2981532999.py:31: SettingWithCopyWarning: \n",
      "A value is trying to be set on a copy of a slice from a DataFrame.\n",
      "Try using .loc[row_indexer,col_indexer] = value instead\n",
      "\n",
      "See the caveats in the documentation: https://pandas.pydata.org/pandas-docs/stable/user_guide/indexing.html#returning-a-view-versus-a-copy\n",
      "  df_seg['Latitude'], df_seg['Longitude']  = vect_get_coordinates(df_seg.Street, df_seg.Address)\n"
     ]
    },
    {
     "name": "stdout",
     "output_type": "stream",
     "text": [
      "PROCESSED: 44000 RECORDS OUT OF TOTAL 117523\n",
      "PROGRESS: 0.3743947993158786 % COMPLETED\n",
      "37 John Street ,TOOTGAROOK VIC 3941,Australia was not able to find lat & long\n",
      "64 Caradon Drive ,TRUGANINA VIC 3029,Australia was not able to find lat & long\n",
      "60 Playfield Drive ,TRUGANINA VIC 3029,Australia was not able to find lat & long\n"
     ]
    },
    {
     "name": "stderr",
     "output_type": "stream",
     "text": [
      "/tmp/ipykernel_415/2981532999.py:31: SettingWithCopyWarning: \n",
      "A value is trying to be set on a copy of a slice from a DataFrame.\n",
      "Try using .loc[row_indexer,col_indexer] = value instead\n",
      "\n",
      "See the caveats in the documentation: https://pandas.pydata.org/pandas-docs/stable/user_guide/indexing.html#returning-a-view-versus-a-copy\n",
      "  df_seg['Latitude'], df_seg['Longitude']  = vect_get_coordinates(df_seg.Street, df_seg.Address)\n",
      "/tmp/ipykernel_415/2981532999.py:31: SettingWithCopyWarning: \n",
      "A value is trying to be set on a copy of a slice from a DataFrame.\n",
      "Try using .loc[row_indexer,col_indexer] = value instead\n",
      "\n",
      "See the caveats in the documentation: https://pandas.pydata.org/pandas-docs/stable/user_guide/indexing.html#returning-a-view-versus-a-copy\n",
      "  df_seg['Latitude'], df_seg['Longitude']  = vect_get_coordinates(df_seg.Street, df_seg.Address)\n"
     ]
    },
    {
     "name": "stdout",
     "output_type": "stream",
     "text": [
      "PROCESSED: 45000 RECORDS OUT OF TOTAL 117523\n",
      "PROGRESS: 0.3829037720276031 % COMPLETED\n",
      "25 Leonard Street ,UPWEY VIC 3158,Australia was not able to find lat & long\n"
     ]
    },
    {
     "name": "stderr",
     "output_type": "stream",
     "text": [
      "/tmp/ipykernel_415/2981532999.py:31: SettingWithCopyWarning: \n",
      "A value is trying to be set on a copy of a slice from a DataFrame.\n",
      "Try using .loc[row_indexer,col_indexer] = value instead\n",
      "\n",
      "See the caveats in the documentation: https://pandas.pydata.org/pandas-docs/stable/user_guide/indexing.html#returning-a-view-versus-a-copy\n",
      "  df_seg['Latitude'], df_seg['Longitude']  = vect_get_coordinates(df_seg.Street, df_seg.Address)\n",
      "/tmp/ipykernel_415/2981532999.py:31: SettingWithCopyWarning: \n",
      "A value is trying to be set on a copy of a slice from a DataFrame.\n",
      "Try using .loc[row_indexer,col_indexer] = value instead\n",
      "\n",
      "See the caveats in the documentation: https://pandas.pydata.org/pandas-docs/stable/user_guide/indexing.html#returning-a-view-versus-a-copy\n",
      "  df_seg['Latitude'], df_seg['Longitude']  = vect_get_coordinates(df_seg.Street, df_seg.Address)\n"
     ]
    },
    {
     "name": "stdout",
     "output_type": "stream",
     "text": [
      "PROCESSED: 46000 RECORDS OUT OF TOTAL 117523\n",
      "PROGRESS: 0.39141274473932763 % COMPLETED\n"
     ]
    },
    {
     "name": "stderr",
     "output_type": "stream",
     "text": [
      "/tmp/ipykernel_415/2981532999.py:31: SettingWithCopyWarning: \n",
      "A value is trying to be set on a copy of a slice from a DataFrame.\n",
      "Try using .loc[row_indexer,col_indexer] = value instead\n",
      "\n",
      "See the caveats in the documentation: https://pandas.pydata.org/pandas-docs/stable/user_guide/indexing.html#returning-a-view-versus-a-copy\n",
      "  df_seg['Latitude'], df_seg['Longitude']  = vect_get_coordinates(df_seg.Street, df_seg.Address)\n",
      "/tmp/ipykernel_415/2981532999.py:31: SettingWithCopyWarning: \n",
      "A value is trying to be set on a copy of a slice from a DataFrame.\n",
      "Try using .loc[row_indexer,col_indexer] = value instead\n",
      "\n",
      "See the caveats in the documentation: https://pandas.pydata.org/pandas-docs/stable/user_guide/indexing.html#returning-a-view-versus-a-copy\n",
      "  df_seg['Latitude'], df_seg['Longitude']  = vect_get_coordinates(df_seg.Street, df_seg.Address)\n"
     ]
    },
    {
     "name": "stdout",
     "output_type": "stream",
     "text": [
      "PROCESSED: 47000 RECORDS OUT OF TOTAL 117523\n",
      "PROGRESS: 0.39992171745105215 % COMPLETED\n"
     ]
    },
    {
     "name": "stderr",
     "output_type": "stream",
     "text": [
      "/tmp/ipykernel_415/2981532999.py:31: SettingWithCopyWarning: \n",
      "A value is trying to be set on a copy of a slice from a DataFrame.\n",
      "Try using .loc[row_indexer,col_indexer] = value instead\n",
      "\n",
      "See the caveats in the documentation: https://pandas.pydata.org/pandas-docs/stable/user_guide/indexing.html#returning-a-view-versus-a-copy\n",
      "  df_seg['Latitude'], df_seg['Longitude']  = vect_get_coordinates(df_seg.Street, df_seg.Address)\n",
      "/tmp/ipykernel_415/2981532999.py:31: SettingWithCopyWarning: \n",
      "A value is trying to be set on a copy of a slice from a DataFrame.\n",
      "Try using .loc[row_indexer,col_indexer] = value instead\n",
      "\n",
      "See the caveats in the documentation: https://pandas.pydata.org/pandas-docs/stable/user_guide/indexing.html#returning-a-view-versus-a-copy\n",
      "  df_seg['Latitude'], df_seg['Longitude']  = vect_get_coordinates(df_seg.Street, df_seg.Address)\n"
     ]
    },
    {
     "name": "stdout",
     "output_type": "stream",
     "text": [
      "PROCESSED: 48000 RECORDS OUT OF TOTAL 117523\n",
      "PROGRESS: 0.40843069016277667 % COMPLETED\n"
     ]
    },
    {
     "name": "stderr",
     "output_type": "stream",
     "text": [
      "/tmp/ipykernel_415/2981532999.py:31: SettingWithCopyWarning: \n",
      "A value is trying to be set on a copy of a slice from a DataFrame.\n",
      "Try using .loc[row_indexer,col_indexer] = value instead\n",
      "\n",
      "See the caveats in the documentation: https://pandas.pydata.org/pandas-docs/stable/user_guide/indexing.html#returning-a-view-versus-a-copy\n",
      "  df_seg['Latitude'], df_seg['Longitude']  = vect_get_coordinates(df_seg.Street, df_seg.Address)\n",
      "/tmp/ipykernel_415/2981532999.py:31: SettingWithCopyWarning: \n",
      "A value is trying to be set on a copy of a slice from a DataFrame.\n",
      "Try using .loc[row_indexer,col_indexer] = value instead\n",
      "\n",
      "See the caveats in the documentation: https://pandas.pydata.org/pandas-docs/stable/user_guide/indexing.html#returning-a-view-versus-a-copy\n",
      "  df_seg['Latitude'], df_seg['Longitude']  = vect_get_coordinates(df_seg.Street, df_seg.Address)\n"
     ]
    },
    {
     "name": "stdout",
     "output_type": "stream",
     "text": [
      "PROCESSED: 49000 RECORDS OUT OF TOTAL 117523\n",
      "PROGRESS: 0.4169396628745012 % COMPLETED\n"
     ]
    },
    {
     "name": "stderr",
     "output_type": "stream",
     "text": [
      "/tmp/ipykernel_415/2981532999.py:31: SettingWithCopyWarning: \n",
      "A value is trying to be set on a copy of a slice from a DataFrame.\n",
      "Try using .loc[row_indexer,col_indexer] = value instead\n",
      "\n",
      "See the caveats in the documentation: https://pandas.pydata.org/pandas-docs/stable/user_guide/indexing.html#returning-a-view-versus-a-copy\n",
      "  df_seg['Latitude'], df_seg['Longitude']  = vect_get_coordinates(df_seg.Street, df_seg.Address)\n",
      "/tmp/ipykernel_415/2981532999.py:31: SettingWithCopyWarning: \n",
      "A value is trying to be set on a copy of a slice from a DataFrame.\n",
      "Try using .loc[row_indexer,col_indexer] = value instead\n",
      "\n",
      "See the caveats in the documentation: https://pandas.pydata.org/pandas-docs/stable/user_guide/indexing.html#returning-a-view-versus-a-copy\n",
      "  df_seg['Latitude'], df_seg['Longitude']  = vect_get_coordinates(df_seg.Street, df_seg.Address)\n"
     ]
    },
    {
     "name": "stdout",
     "output_type": "stream",
     "text": [
      "PROCESSED: 50000 RECORDS OUT OF TOTAL 117523\n",
      "PROGRESS: 0.4254486355862257 % COMPLETED\n"
     ]
    },
    {
     "name": "stderr",
     "output_type": "stream",
     "text": [
      "/tmp/ipykernel_415/2981532999.py:31: SettingWithCopyWarning: \n",
      "A value is trying to be set on a copy of a slice from a DataFrame.\n",
      "Try using .loc[row_indexer,col_indexer] = value instead\n",
      "\n",
      "See the caveats in the documentation: https://pandas.pydata.org/pandas-docs/stable/user_guide/indexing.html#returning-a-view-versus-a-copy\n",
      "  df_seg['Latitude'], df_seg['Longitude']  = vect_get_coordinates(df_seg.Street, df_seg.Address)\n",
      "/tmp/ipykernel_415/2981532999.py:31: SettingWithCopyWarning: \n",
      "A value is trying to be set on a copy of a slice from a DataFrame.\n",
      "Try using .loc[row_indexer,col_indexer] = value instead\n",
      "\n",
      "See the caveats in the documentation: https://pandas.pydata.org/pandas-docs/stable/user_guide/indexing.html#returning-a-view-versus-a-copy\n",
      "  df_seg['Latitude'], df_seg['Longitude']  = vect_get_coordinates(df_seg.Street, df_seg.Address)\n"
     ]
    },
    {
     "name": "stdout",
     "output_type": "stream",
     "text": [
      "PROCESSED: 51000 RECORDS OUT OF TOTAL 117523\n",
      "PROGRESS: 0.4339576082979502 % COMPLETED\n"
     ]
    },
    {
     "name": "stderr",
     "output_type": "stream",
     "text": [
      "/tmp/ipykernel_415/2981532999.py:31: SettingWithCopyWarning: \n",
      "A value is trying to be set on a copy of a slice from a DataFrame.\n",
      "Try using .loc[row_indexer,col_indexer] = value instead\n",
      "\n",
      "See the caveats in the documentation: https://pandas.pydata.org/pandas-docs/stable/user_guide/indexing.html#returning-a-view-versus-a-copy\n",
      "  df_seg['Latitude'], df_seg['Longitude']  = vect_get_coordinates(df_seg.Street, df_seg.Address)\n",
      "/tmp/ipykernel_415/2981532999.py:31: SettingWithCopyWarning: \n",
      "A value is trying to be set on a copy of a slice from a DataFrame.\n",
      "Try using .loc[row_indexer,col_indexer] = value instead\n",
      "\n",
      "See the caveats in the documentation: https://pandas.pydata.org/pandas-docs/stable/user_guide/indexing.html#returning-a-view-versus-a-copy\n",
      "  df_seg['Latitude'], df_seg['Longitude']  = vect_get_coordinates(df_seg.Street, df_seg.Address)\n"
     ]
    },
    {
     "name": "stdout",
     "output_type": "stream",
     "text": [
      "PROCESSED: 52000 RECORDS OUT OF TOTAL 117523\n",
      "PROGRESS: 0.4424665810096747 % COMPLETED\n"
     ]
    },
    {
     "name": "stderr",
     "output_type": "stream",
     "text": [
      "/tmp/ipykernel_415/2981532999.py:31: SettingWithCopyWarning: \n",
      "A value is trying to be set on a copy of a slice from a DataFrame.\n",
      "Try using .loc[row_indexer,col_indexer] = value instead\n",
      "\n",
      "See the caveats in the documentation: https://pandas.pydata.org/pandas-docs/stable/user_guide/indexing.html#returning-a-view-versus-a-copy\n",
      "  df_seg['Latitude'], df_seg['Longitude']  = vect_get_coordinates(df_seg.Street, df_seg.Address)\n",
      "/tmp/ipykernel_415/2981532999.py:31: SettingWithCopyWarning: \n",
      "A value is trying to be set on a copy of a slice from a DataFrame.\n",
      "Try using .loc[row_indexer,col_indexer] = value instead\n",
      "\n",
      "See the caveats in the documentation: https://pandas.pydata.org/pandas-docs/stable/user_guide/indexing.html#returning-a-view-versus-a-copy\n",
      "  df_seg['Latitude'], df_seg['Longitude']  = vect_get_coordinates(df_seg.Street, df_seg.Address)\n"
     ]
    },
    {
     "name": "stdout",
     "output_type": "stream",
     "text": [
      "PROCESSED: 53000 RECORDS OUT OF TOTAL 117523\n",
      "PROGRESS: 0.4509755537213992 % COMPLETED\n"
     ]
    },
    {
     "name": "stderr",
     "output_type": "stream",
     "text": [
      "/tmp/ipykernel_415/2981532999.py:31: SettingWithCopyWarning: \n",
      "A value is trying to be set on a copy of a slice from a DataFrame.\n",
      "Try using .loc[row_indexer,col_indexer] = value instead\n",
      "\n",
      "See the caveats in the documentation: https://pandas.pydata.org/pandas-docs/stable/user_guide/indexing.html#returning-a-view-versus-a-copy\n",
      "  df_seg['Latitude'], df_seg['Longitude']  = vect_get_coordinates(df_seg.Street, df_seg.Address)\n",
      "/tmp/ipykernel_415/2981532999.py:31: SettingWithCopyWarning: \n",
      "A value is trying to be set on a copy of a slice from a DataFrame.\n",
      "Try using .loc[row_indexer,col_indexer] = value instead\n",
      "\n",
      "See the caveats in the documentation: https://pandas.pydata.org/pandas-docs/stable/user_guide/indexing.html#returning-a-view-versus-a-copy\n",
      "  df_seg['Latitude'], df_seg['Longitude']  = vect_get_coordinates(df_seg.Street, df_seg.Address)\n"
     ]
    },
    {
     "name": "stdout",
     "output_type": "stream",
     "text": [
      "PROCESSED: 54000 RECORDS OUT OF TOTAL 117523\n",
      "PROGRESS: 0.4594845264331237 % COMPLETED\n",
      "57 Pinoak Drive ,YARRA GLEN VIC 3775,Australia was not able to find lat & long\n",
      "PROCESSED: 54523 RECORDS OUT OF TOTAL 117523\n",
      "PROGRESS: 0.46393471916135565 % COMPLETED\n"
     ]
    },
    {
     "name": "stderr",
     "output_type": "stream",
     "text": [
      "/tmp/ipykernel_415/2981532999.py:31: SettingWithCopyWarning: \n",
      "A value is trying to be set on a copy of a slice from a DataFrame.\n",
      "Try using .loc[row_indexer,col_indexer] = value instead\n",
      "\n",
      "See the caveats in the documentation: https://pandas.pydata.org/pandas-docs/stable/user_guide/indexing.html#returning-a-view-versus-a-copy\n",
      "  df_seg['Latitude'], df_seg['Longitude']  = vect_get_coordinates(df_seg.Street, df_seg.Address)\n",
      "/tmp/ipykernel_415/2981532999.py:31: SettingWithCopyWarning: \n",
      "A value is trying to be set on a copy of a slice from a DataFrame.\n",
      "Try using .loc[row_indexer,col_indexer] = value instead\n",
      "\n",
      "See the caveats in the documentation: https://pandas.pydata.org/pandas-docs/stable/user_guide/indexing.html#returning-a-view-versus-a-copy\n",
      "  df_seg['Latitude'], df_seg['Longitude']  = vect_get_coordinates(df_seg.Street, df_seg.Address)\n"
     ]
    }
   ],
   "source": [
    "\n",
    "df = pd.read_csv(f\"../MLrealestate/data/{city}/{city}_raw.csv\")\n",
    "\n",
    "def get_coordinates(street, suburb):\n",
    "    loc = Nominatim(user_agent=\"GetLoc\")\n",
    "\n",
    "    try:\n",
    "        if {street} == 'No Street Found':\n",
    "            getLoc = loc.geocode(f\"{suburb},Australia\")\n",
    "        else:\n",
    "            getLoc = loc.geocode(f\"{street},{suburb},Australia\")\n",
    "        lat = getLoc.latitude\n",
    "        long = getLoc.longitude\n",
    "    except:\n",
    "        try:\n",
    "            getLoc = loc.geocode(f\"{suburb},Australia\")\n",
    "            lat = getLoc.latitude\n",
    "            long = getLoc.longitude\n",
    "        except:\n",
    "            print(f\"{street},{suburb},Australia was not able to find lat & long\")\n",
    "            lat = -37.7618477\n",
    "            long = 144.9805318\n",
    "    return lat,long\n",
    "\n",
    "\n",
    "vect_get_coordinates = np.vectorize(get_coordinates)\n",
    "\n",
    "completed = 0\n",
    "\n",
    "for i in range(0,len(df.index),1000):\n",
    "    df_seg = df[i:i+1000]\n",
    "    df_seg['Latitude'], df_seg['Longitude']  = vect_get_coordinates(df_seg.Street, df_seg.Address)\n",
    "    df_seg.to_csv(f\"../MLrealestate/data/{city}/{city}_latlon.csv\",mode='a',header = False,index=False)\n",
    "    completed = completed + len(df_seg)\n",
    "    print(f\"PROCESSED: {completed} RECORDS OUT OF TOTAL {len(df.index)}\")\n",
    "    print(f\"PROGRESS: {completed/len(df.index)} % COMPLETED\")\n",
    "\n",
    "    "
   ]
  },
  {
   "cell_type": "code",
   "execution_count": 14,
   "metadata": {},
   "outputs": [
    {
     "data": {
      "text/plain": [
       "0"
      ]
     },
     "execution_count": 14,
     "metadata": {},
     "output_type": "execute_result"
    }
   ],
   "source": [
    "df = pd.read_csv(f\"../MLrealestate/data/{city}/{city}_latlon.csv\")\n",
    "\n",
    "len(df[df['Latitude'] == -37.7618477])"
   ]
  },
  {
   "cell_type": "code",
   "execution_count": 12,
   "metadata": {},
   "outputs": [
    {
     "name": "stdout",
     "output_type": "stream",
     "text": [
      "fixed 108/3 Faulkner Street  new lat = -37.9323275  new long= 145.0373655\n",
      "fixed 53 South Avenue  new lat = -37.930122  new long= 145.0357656\n",
      "fixed 5 Delhi Street  new lat = -37.925692  new long= 145.0477795\n",
      "fixed 9 Bendigo Avenue  new lat = -37.9188039  new long= 145.0373582\n",
      "fixed 3A Renown Street  new lat = -37.9213809  new long= 145.0465663\n",
      "fixed 5 Gwendoline Avenue  new lat = -37.9159723  new long= 145.026324\n",
      "fixed 3 Golf Links Crescent  new lat = -37.9864541  new long= 145.1399716\n",
      "fixed 300 Hazeldene Road  new lat = -37.8415589  new long= 145.6435486\n",
      "fixed 5 Dickens Street  new lat = -37.8484727  new long= 145.070148\n",
      "fixed 16 Atkins Avenue  new lat = -37.8488025  new long= 145.0655029\n",
      "fixed 16 Goodwin Street  new lat = -37.8507757  new long= 145.0701675\n",
      "fixed 3/40 Maude Avenue  new lat = -37.7028595  new long= 144.9354002\n",
      "fixed 4/40 Belair Avenue  new lat = -37.7044429  new long= 144.9142018\n",
      "fixed 162 Greenvale Drive  new lat = -37.6463365  new long= 144.8981351\n",
      "fixed 50 Napoli Circuit  new lat = -37.6229351  new long= 144.8886619\n",
      "fixed 19 Galloway Ct  new lat = -37.6419349  new long= 144.9017676\n",
      "fixed 17 Lockley Street  new lat = -37.7046228  new long= 144.9412095\n",
      "fixed 250 Sterling Drive  new lat = -37.7456004  new long= 144.8500012\n",
      "fixed 17 Inverness Avenue  new lat = -37.7887257  new long= 144.7585337\n",
      "fixed 32 Britannia way  new lat = -37.7513741  new long= 145.3630215\n",
      "fixed 68 Bastow Road  new lat = -37.7596403  new long= 145.366078\n",
      "fixed 32 Noremac Grove  new lat = -38.0724402  new long= 145.2549205\n",
      "fixed 11 Gumleaf Lane  new lat = -37.8213413  new long= 145.189298\n",
      "fixed 40 Williamson Road  new lat = -37.7987741  new long= 145.1081985\n",
      "fixed 1A McFarlane Street  new lat = -37.7172431  new long= 145.1238401\n",
      "fixed 43a Napier Crescent  new lat = -37.7241364  new long= 145.1332832\n",
      "fixed 56 Vine Street  new lat = -37.7688861  new long= 144.9315607\n",
      "fixed 2/521 Pascoe Vale Road  new lat = -37.7286459  new long= 144.9239144\n",
      "fixed 14 Oakbank Grove  new lat = -37.7312463  new long= 144.9441187\n",
      "fixed 67 Balmoral Avenue  new lat = -37.7412202  new long= 144.941022\n",
      "fixed 51 Charles Drive  new lat = -38.2046978  new long= 145.2403131\n",
      "fixed 164 Bungower Road  new lat = -38.2387007  new long= 145.2144311\n",
      "fixed 37 John Street  new lat = -38.3760364  new long= 144.8506909\n",
      "fixed 64 Caradon Drive  new lat = -37.8560207  new long= 144.7283875\n",
      "fixed 60 Playfield Drive  new lat = -37.8251691  new long= 144.7285957\n",
      "fixed 25 Leonard Street  new lat = -37.9073111  new long= 145.3213752\n",
      "fixed 57 Pinoak Drive  new lat = -37.6550703  new long= 145.3765499\n"
     ]
    },
    {
     "data": {
      "text/html": [
       "<div>\n",
       "<style scoped>\n",
       "    .dataframe tbody tr th:only-of-type {\n",
       "        vertical-align: middle;\n",
       "    }\n",
       "\n",
       "    .dataframe tbody tr th {\n",
       "        vertical-align: top;\n",
       "    }\n",
       "\n",
       "    .dataframe thead th {\n",
       "        text-align: right;\n",
       "    }\n",
       "</style>\n",
       "<table border=\"1\" class=\"dataframe\">\n",
       "  <thead>\n",
       "    <tr style=\"text-align: right;\">\n",
       "      <th></th>\n",
       "      <th>Street</th>\n",
       "      <th>Address</th>\n",
       "      <th>Suburb</th>\n",
       "      <th>State</th>\n",
       "      <th>Postcode</th>\n",
       "      <th>Type</th>\n",
       "      <th>Date</th>\n",
       "      <th>Method</th>\n",
       "      <th>Price</th>\n",
       "      <th>Bedrooms</th>\n",
       "      <th>Bathrooms</th>\n",
       "      <th>Cars</th>\n",
       "      <th>Area</th>\n",
       "      <th>Agent</th>\n",
       "      <th>Latitude</th>\n",
       "      <th>Longitude</th>\n",
       "    </tr>\n",
       "  </thead>\n",
       "  <tbody>\n",
       "    <tr>\n",
       "      <th>0</th>\n",
       "      <td>6 Clifton Street</td>\n",
       "      <td>ABERFELDIE VIC 3040</td>\n",
       "      <td>ABERFELDIE</td>\n",
       "      <td>VIC</td>\n",
       "      <td>3040</td>\n",
       "      <td>House</td>\n",
       "      <td>25-Jun-22</td>\n",
       "      <td>private treaty</td>\n",
       "      <td>1810000</td>\n",
       "      <td>4</td>\n",
       "      <td>2</td>\n",
       "      <td>3</td>\n",
       "      <td>535m²</td>\n",
       "      <td>MATTHEWS.</td>\n",
       "      <td>-37.761302</td>\n",
       "      <td>144.891030</td>\n",
       "    </tr>\n",
       "    <tr>\n",
       "      <th>1</th>\n",
       "      <td>14 Batman Street</td>\n",
       "      <td>ABERFELDIE VIC 3040</td>\n",
       "      <td>ABERFELDIE</td>\n",
       "      <td>VIC</td>\n",
       "      <td>3040</td>\n",
       "      <td>House</td>\n",
       "      <td>21-May-22</td>\n",
       "      <td>auction</td>\n",
       "      <td>2101000</td>\n",
       "      <td>4</td>\n",
       "      <td>3</td>\n",
       "      <td>2</td>\n",
       "      <td>650m²</td>\n",
       "      <td>Woodards Ascot Vale</td>\n",
       "      <td>-37.755418</td>\n",
       "      <td>144.893808</td>\n",
       "    </tr>\n",
       "    <tr>\n",
       "      <th>2</th>\n",
       "      <td>12 Batman Street</td>\n",
       "      <td>ABERFELDIE VIC 3040</td>\n",
       "      <td>ABERFELDIE</td>\n",
       "      <td>VIC</td>\n",
       "      <td>3040</td>\n",
       "      <td>House</td>\n",
       "      <td>9-Apr-22</td>\n",
       "      <td>auction</td>\n",
       "      <td>1900000</td>\n",
       "      <td>4</td>\n",
       "      <td>2</td>\n",
       "      <td>2</td>\n",
       "      <td>650m²</td>\n",
       "      <td>Nelson Alexander Essendon</td>\n",
       "      <td>-37.755418</td>\n",
       "      <td>144.893808</td>\n",
       "    </tr>\n",
       "    <tr>\n",
       "      <th>3</th>\n",
       "      <td>24 Clifton Street</td>\n",
       "      <td>ABERFELDIE VIC 3040</td>\n",
       "      <td>ABERFELDIE</td>\n",
       "      <td>VIC</td>\n",
       "      <td>3040</td>\n",
       "      <td>House</td>\n",
       "      <td>1-Apr-22</td>\n",
       "      <td>auction</td>\n",
       "      <td>2000000</td>\n",
       "      <td>3</td>\n",
       "      <td>2</td>\n",
       "      <td>5</td>\n",
       "      <td>640m²</td>\n",
       "      <td>Barry Plant Essendon</td>\n",
       "      <td>-37.761302</td>\n",
       "      <td>144.891030</td>\n",
       "    </tr>\n",
       "    <tr>\n",
       "      <th>4</th>\n",
       "      <td>34 Caroline Street</td>\n",
       "      <td>ABERFELDIE VIC 3040</td>\n",
       "      <td>ABERFELDIE</td>\n",
       "      <td>VIC</td>\n",
       "      <td>3040</td>\n",
       "      <td>House</td>\n",
       "      <td>26-Mar-22</td>\n",
       "      <td>auction</td>\n",
       "      <td>2981000</td>\n",
       "      <td>4</td>\n",
       "      <td>3</td>\n",
       "      <td>3</td>\n",
       "      <td>1,017m²</td>\n",
       "      <td>Ray White Sunbury Pty Ltd</td>\n",
       "      <td>-37.759417</td>\n",
       "      <td>144.892162</td>\n",
       "    </tr>\n",
       "  </tbody>\n",
       "</table>\n",
       "</div>"
      ],
      "text/plain": [
       "                Street              Address      Suburb State  Postcode  \\\n",
       "0    6 Clifton Street   ABERFELDIE VIC 3040  ABERFELDIE   VIC      3040   \n",
       "1    14 Batman Street   ABERFELDIE VIC 3040  ABERFELDIE   VIC      3040   \n",
       "2    12 Batman Street   ABERFELDIE VIC 3040  ABERFELDIE   VIC      3040   \n",
       "3   24 Clifton Street   ABERFELDIE VIC 3040  ABERFELDIE   VIC      3040   \n",
       "4  34 Caroline Street   ABERFELDIE VIC 3040  ABERFELDIE   VIC      3040   \n",
       "\n",
       "    Type       Date          Method    Price  Bedrooms  Bathrooms  Cars  \\\n",
       "0  House  25-Jun-22  private treaty  1810000         4          2     3   \n",
       "1  House  21-May-22         auction  2101000         4          3     2   \n",
       "2  House   9-Apr-22         auction  1900000         4          2     2   \n",
       "3  House   1-Apr-22         auction  2000000         3          2     5   \n",
       "4  House  26-Mar-22         auction  2981000         4          3     3   \n",
       "\n",
       "       Area                      Agent   Latitude   Longitude  \n",
       "0    535m²                   MATTHEWS. -37.761302  144.891030  \n",
       "1    650m²         Woodards Ascot Vale -37.755418  144.893808  \n",
       "2    650m²   Nelson Alexander Essendon -37.755418  144.893808  \n",
       "3    640m²        Barry Plant Essendon -37.761302  144.891030  \n",
       "4  1,017m²   Ray White Sunbury Pty Ltd -37.759417  144.892162  "
      ]
     },
     "execution_count": 12,
     "metadata": {},
     "output_type": "execute_result"
    }
   ],
   "source": [
    "def get_coordinates(street, suburb):\n",
    "    loc = Nominatim(user_agent=\"GetLoc\")\n",
    "\n",
    "    try:\n",
    "        if {street} == 'No Street Found':\n",
    "            getLoc = loc.geocode(f\"{suburb},Australia\")\n",
    "        else:\n",
    "            getLoc = loc.geocode(f\"{street},{suburb},Australia\")\n",
    "        lat = getLoc.latitude\n",
    "        long = getLoc.longitude\n",
    "    except:\n",
    "        try:\n",
    "            getLoc = loc.geocode(f\"{suburb},Australia\")\n",
    "            lat = getLoc.latitude\n",
    "            long = getLoc.longitude\n",
    "        except:\n",
    "            print(f\"{street},{suburb},Australia was not able to find lat & long\")\n",
    "            lat = -37.7618477\n",
    "            long = 144.9805318\n",
    "    return lat,long\n",
    "\n",
    "df = pd.read_csv(f\"../MLrealestate/data/{city}/{city}_latlon.csv\")\n",
    "\n",
    "def fix_lat_lon(row):\n",
    "    if row['Latitude'] == -37.7618477:\n",
    "       try:\n",
    "            row['Latitude'],row['Longitude'] = get_coordinates(row['Street'], row['Suburb'])\n",
    "           \n",
    "            print(f\"fixed {row['Street']} new lat = {row['Latitude']}  new long= {row['Longitude']}\")\n",
    "       except:\n",
    "            print(f\"Unable to fix {row['Street']}\")\n",
    "    return row\n",
    "\n",
    "\n",
    "df = df.apply(fix_lat_lon, axis=1)\n",
    "df.head()      \n",
    "\n",
    "\n"
   ]
  },
  {
   "cell_type": "code",
   "execution_count": 13,
   "metadata": {},
   "outputs": [],
   "source": [
    "df.to_csv(f\"../MLrealestate/data/{city}/{city}_latlon.csv\", header = True, index = False)"
   ]
  },
  {
   "cell_type": "markdown",
   "metadata": {},
   "source": [
    "CALCULATE DISTANCE FROM CITY by vectorization function and using Latitude and longitude"
   ]
  },
  {
   "cell_type": "code",
   "execution_count": 15,
   "metadata": {},
   "outputs": [
    {
     "data": {
      "text/html": [
       "<div>\n",
       "<style scoped>\n",
       "    .dataframe tbody tr th:only-of-type {\n",
       "        vertical-align: middle;\n",
       "    }\n",
       "\n",
       "    .dataframe tbody tr th {\n",
       "        vertical-align: top;\n",
       "    }\n",
       "\n",
       "    .dataframe thead th {\n",
       "        text-align: right;\n",
       "    }\n",
       "</style>\n",
       "<table border=\"1\" class=\"dataframe\">\n",
       "  <thead>\n",
       "    <tr style=\"text-align: right;\">\n",
       "      <th></th>\n",
       "      <th>Street</th>\n",
       "      <th>Address</th>\n",
       "      <th>Suburb</th>\n",
       "      <th>State</th>\n",
       "      <th>Postcode</th>\n",
       "      <th>Type</th>\n",
       "      <th>Date</th>\n",
       "      <th>Method</th>\n",
       "      <th>Price</th>\n",
       "      <th>Bedrooms</th>\n",
       "      <th>Bathrooms</th>\n",
       "      <th>Cars</th>\n",
       "      <th>Area</th>\n",
       "      <th>Agent</th>\n",
       "      <th>Latitude</th>\n",
       "      <th>Longitude</th>\n",
       "      <th>Distance</th>\n",
       "    </tr>\n",
       "  </thead>\n",
       "  <tbody>\n",
       "    <tr>\n",
       "      <th>0</th>\n",
       "      <td>6 Clifton Street</td>\n",
       "      <td>ABERFELDIE VIC 3040</td>\n",
       "      <td>ABERFELDIE</td>\n",
       "      <td>VIC</td>\n",
       "      <td>3040</td>\n",
       "      <td>House</td>\n",
       "      <td>25-Jun-22</td>\n",
       "      <td>private treaty</td>\n",
       "      <td>1810000</td>\n",
       "      <td>4</td>\n",
       "      <td>2</td>\n",
       "      <td>3</td>\n",
       "      <td>535m²</td>\n",
       "      <td>MATTHEWS.</td>\n",
       "      <td>-37.761302</td>\n",
       "      <td>144.891030</td>\n",
       "      <td>8.651315</td>\n",
       "    </tr>\n",
       "    <tr>\n",
       "      <th>1</th>\n",
       "      <td>14 Batman Street</td>\n",
       "      <td>ABERFELDIE VIC 3040</td>\n",
       "      <td>ABERFELDIE</td>\n",
       "      <td>VIC</td>\n",
       "      <td>3040</td>\n",
       "      <td>House</td>\n",
       "      <td>21-May-22</td>\n",
       "      <td>auction</td>\n",
       "      <td>2101000</td>\n",
       "      <td>4</td>\n",
       "      <td>3</td>\n",
       "      <td>2</td>\n",
       "      <td>650m²</td>\n",
       "      <td>Woodards Ascot Vale</td>\n",
       "      <td>-37.755418</td>\n",
       "      <td>144.893808</td>\n",
       "      <td>8.941133</td>\n",
       "    </tr>\n",
       "    <tr>\n",
       "      <th>2</th>\n",
       "      <td>12 Batman Street</td>\n",
       "      <td>ABERFELDIE VIC 3040</td>\n",
       "      <td>ABERFELDIE</td>\n",
       "      <td>VIC</td>\n",
       "      <td>3040</td>\n",
       "      <td>House</td>\n",
       "      <td>9-Apr-22</td>\n",
       "      <td>auction</td>\n",
       "      <td>1900000</td>\n",
       "      <td>4</td>\n",
       "      <td>2</td>\n",
       "      <td>2</td>\n",
       "      <td>650m²</td>\n",
       "      <td>Nelson Alexander Essendon</td>\n",
       "      <td>-37.755418</td>\n",
       "      <td>144.893808</td>\n",
       "      <td>8.941133</td>\n",
       "    </tr>\n",
       "    <tr>\n",
       "      <th>3</th>\n",
       "      <td>24 Clifton Street</td>\n",
       "      <td>ABERFELDIE VIC 3040</td>\n",
       "      <td>ABERFELDIE</td>\n",
       "      <td>VIC</td>\n",
       "      <td>3040</td>\n",
       "      <td>House</td>\n",
       "      <td>1-Apr-22</td>\n",
       "      <td>auction</td>\n",
       "      <td>2000000</td>\n",
       "      <td>3</td>\n",
       "      <td>2</td>\n",
       "      <td>5</td>\n",
       "      <td>640m²</td>\n",
       "      <td>Barry Plant Essendon</td>\n",
       "      <td>-37.761302</td>\n",
       "      <td>144.891030</td>\n",
       "      <td>8.651315</td>\n",
       "    </tr>\n",
       "    <tr>\n",
       "      <th>4</th>\n",
       "      <td>34 Caroline Street</td>\n",
       "      <td>ABERFELDIE VIC 3040</td>\n",
       "      <td>ABERFELDIE</td>\n",
       "      <td>VIC</td>\n",
       "      <td>3040</td>\n",
       "      <td>House</td>\n",
       "      <td>26-Mar-22</td>\n",
       "      <td>auction</td>\n",
       "      <td>2981000</td>\n",
       "      <td>4</td>\n",
       "      <td>3</td>\n",
       "      <td>3</td>\n",
       "      <td>1,017m²</td>\n",
       "      <td>Ray White Sunbury Pty Ltd</td>\n",
       "      <td>-37.759417</td>\n",
       "      <td>144.892162</td>\n",
       "      <td>8.723874</td>\n",
       "    </tr>\n",
       "    <tr>\n",
       "      <th>5</th>\n",
       "      <td>3 Beatrice Avenue</td>\n",
       "      <td>ABERFELDIE VIC 3040</td>\n",
       "      <td>ABERFELDIE</td>\n",
       "      <td>VIC</td>\n",
       "      <td>3040</td>\n",
       "      <td>House</td>\n",
       "      <td>15-Mar-22</td>\n",
       "      <td>private treaty</td>\n",
       "      <td>2540000</td>\n",
       "      <td>5</td>\n",
       "      <td>4</td>\n",
       "      <td>4</td>\n",
       "      <td>613m²</td>\n",
       "      <td>Jellis Craig Moonee Valley</td>\n",
       "      <td>-37.753983</td>\n",
       "      <td>144.889504</td>\n",
       "      <td>9.317378</td>\n",
       "    </tr>\n",
       "    <tr>\n",
       "      <th>6</th>\n",
       "      <td>1 Vida Street</td>\n",
       "      <td>ABERFELDIE VIC 3040</td>\n",
       "      <td>ABERFELDIE</td>\n",
       "      <td>VIC</td>\n",
       "      <td>3040</td>\n",
       "      <td>House</td>\n",
       "      <td>4-Mar-22</td>\n",
       "      <td>private treaty</td>\n",
       "      <td>1855000</td>\n",
       "      <td>4</td>\n",
       "      <td>2</td>\n",
       "      <td>2</td>\n",
       "      <td>569m²</td>\n",
       "      <td>McDonald Upton</td>\n",
       "      <td>-37.755976</td>\n",
       "      <td>144.898742</td>\n",
       "      <td>8.604382</td>\n",
       "    </tr>\n",
       "    <tr>\n",
       "      <th>7</th>\n",
       "      <td>37 Clifton Street</td>\n",
       "      <td>ABERFELDIE VIC 3040</td>\n",
       "      <td>ABERFELDIE</td>\n",
       "      <td>VIC</td>\n",
       "      <td>3040</td>\n",
       "      <td>House</td>\n",
       "      <td>19-Feb-22</td>\n",
       "      <td>auction</td>\n",
       "      <td>1945000</td>\n",
       "      <td>4</td>\n",
       "      <td>3</td>\n",
       "      <td>2</td>\n",
       "      <td>810m²</td>\n",
       "      <td>Barry Plant Essendon</td>\n",
       "      <td>-37.761302</td>\n",
       "      <td>144.891030</td>\n",
       "      <td>8.651315</td>\n",
       "    </tr>\n",
       "    <tr>\n",
       "      <th>8</th>\n",
       "      <td>104 Fawkner Street</td>\n",
       "      <td>ABERFELDIE VIC 3040</td>\n",
       "      <td>ABERFELDIE</td>\n",
       "      <td>VIC</td>\n",
       "      <td>3040</td>\n",
       "      <td>House</td>\n",
       "      <td>19-Feb-22</td>\n",
       "      <td>auction</td>\n",
       "      <td>2007000</td>\n",
       "      <td>3</td>\n",
       "      <td>2</td>\n",
       "      <td>1</td>\n",
       "      <td>481m²</td>\n",
       "      <td>Barry Plant Essendon</td>\n",
       "      <td>-37.757372</td>\n",
       "      <td>144.896145</td>\n",
       "      <td>8.641993</td>\n",
       "    </tr>\n",
       "    <tr>\n",
       "      <th>9</th>\n",
       "      <td>5 Muldowney Street</td>\n",
       "      <td>ABERFELDIE VIC 3040</td>\n",
       "      <td>ABERFELDIE</td>\n",
       "      <td>VIC</td>\n",
       "      <td>3040</td>\n",
       "      <td>House</td>\n",
       "      <td>5-Feb-22</td>\n",
       "      <td>auction</td>\n",
       "      <td>2501000</td>\n",
       "      <td>4</td>\n",
       "      <td>2</td>\n",
       "      <td>3</td>\n",
       "      <td>482m²</td>\n",
       "      <td>Nelson Alexander Essendon</td>\n",
       "      <td>-37.758229</td>\n",
       "      <td>144.896914</td>\n",
       "      <td>8.526209</td>\n",
       "    </tr>\n",
       "    <tr>\n",
       "      <th>10</th>\n",
       "      <td>47a Clifton Street</td>\n",
       "      <td>ABERFELDIE VIC 3040</td>\n",
       "      <td>ABERFELDIE</td>\n",
       "      <td>VIC</td>\n",
       "      <td>3040</td>\n",
       "      <td>House</td>\n",
       "      <td>21-Dec-21</td>\n",
       "      <td>private treaty</td>\n",
       "      <td>4730000</td>\n",
       "      <td>5</td>\n",
       "      <td>4</td>\n",
       "      <td>3</td>\n",
       "      <td>657m²</td>\n",
       "      <td>Nelson Alexander Essendon</td>\n",
       "      <td>-37.761302</td>\n",
       "      <td>144.891030</td>\n",
       "      <td>8.651315</td>\n",
       "    </tr>\n",
       "    <tr>\n",
       "      <th>11</th>\n",
       "      <td>24 Waverley Street</td>\n",
       "      <td>ABERFELDIE VIC 3040</td>\n",
       "      <td>ABERFELDIE</td>\n",
       "      <td>VIC</td>\n",
       "      <td>3040</td>\n",
       "      <td>House</td>\n",
       "      <td>18-Dec-21</td>\n",
       "      <td>private treaty</td>\n",
       "      <td>1685000</td>\n",
       "      <td>3</td>\n",
       "      <td>2</td>\n",
       "      <td>2</td>\n",
       "      <td>684m²</td>\n",
       "      <td>Nelson Alexander Essendon</td>\n",
       "      <td>-37.756491</td>\n",
       "      <td>144.907204</td>\n",
       "      <td>8.088507</td>\n",
       "    </tr>\n",
       "    <tr>\n",
       "      <th>12</th>\n",
       "      <td>14 Jean Street</td>\n",
       "      <td>ABERFELDIE VIC 3040</td>\n",
       "      <td>ABERFELDIE</td>\n",
       "      <td>VIC</td>\n",
       "      <td>3040</td>\n",
       "      <td>House</td>\n",
       "      <td>8-Dec-21</td>\n",
       "      <td>auction</td>\n",
       "      <td>2430000</td>\n",
       "      <td>3</td>\n",
       "      <td>2</td>\n",
       "      <td>2</td>\n",
       "      <td>559m²</td>\n",
       "      <td>Barry Plant Essendon</td>\n",
       "      <td>-37.762089</td>\n",
       "      <td>144.893063</td>\n",
       "      <td>8.460915</td>\n",
       "    </tr>\n",
       "    <tr>\n",
       "      <th>13</th>\n",
       "      <td>33 Clifton Street</td>\n",
       "      <td>ABERFELDIE VIC 3040</td>\n",
       "      <td>ABERFELDIE</td>\n",
       "      <td>VIC</td>\n",
       "      <td>3040</td>\n",
       "      <td>House</td>\n",
       "      <td>8-Dec-21</td>\n",
       "      <td>auction</td>\n",
       "      <td>1815000</td>\n",
       "      <td>3</td>\n",
       "      <td>2</td>\n",
       "      <td>2</td>\n",
       "      <td>806m²</td>\n",
       "      <td>Frank Dowling</td>\n",
       "      <td>-37.761302</td>\n",
       "      <td>144.891030</td>\n",
       "      <td>8.651315</td>\n",
       "    </tr>\n",
       "    <tr>\n",
       "      <th>14</th>\n",
       "      <td>29 Clifton Street</td>\n",
       "      <td>ABERFELDIE VIC 3040</td>\n",
       "      <td>ABERFELDIE</td>\n",
       "      <td>VIC</td>\n",
       "      <td>3040</td>\n",
       "      <td>House</td>\n",
       "      <td>30-Nov-21</td>\n",
       "      <td>auction</td>\n",
       "      <td>2261000</td>\n",
       "      <td>4</td>\n",
       "      <td>2</td>\n",
       "      <td>2</td>\n",
       "      <td>766m²</td>\n",
       "      <td>Barry Plant Essendon</td>\n",
       "      <td>-37.761302</td>\n",
       "      <td>144.891030</td>\n",
       "      <td>8.651315</td>\n",
       "    </tr>\n",
       "    <tr>\n",
       "      <th>15</th>\n",
       "      <td>20 Combermere Street</td>\n",
       "      <td>ABERFELDIE VIC 3040</td>\n",
       "      <td>ABERFELDIE</td>\n",
       "      <td>VIC</td>\n",
       "      <td>3040</td>\n",
       "      <td>House</td>\n",
       "      <td>30-Nov-21</td>\n",
       "      <td>private treaty</td>\n",
       "      <td>1200000</td>\n",
       "      <td>3</td>\n",
       "      <td>1</td>\n",
       "      <td>2</td>\n",
       "      <td>352m²</td>\n",
       "      <td>Barry Plant Essendon</td>\n",
       "      <td>-37.756177</td>\n",
       "      <td>144.904560</td>\n",
       "      <td>8.259239</td>\n",
       "    </tr>\n",
       "    <tr>\n",
       "      <th>16</th>\n",
       "      <td>49 Clifton Street</td>\n",
       "      <td>ABERFELDIE VIC 3040</td>\n",
       "      <td>ABERFELDIE</td>\n",
       "      <td>VIC</td>\n",
       "      <td>3040</td>\n",
       "      <td>House</td>\n",
       "      <td>13-Nov-21</td>\n",
       "      <td>auction</td>\n",
       "      <td>1710000</td>\n",
       "      <td>4</td>\n",
       "      <td>2</td>\n",
       "      <td>3</td>\n",
       "      <td>565m²</td>\n",
       "      <td>MATTHEWS.</td>\n",
       "      <td>-37.761302</td>\n",
       "      <td>144.891030</td>\n",
       "      <td>8.651315</td>\n",
       "    </tr>\n",
       "    <tr>\n",
       "      <th>17</th>\n",
       "      <td>43 Afton Street</td>\n",
       "      <td>ABERFELDIE VIC 3040</td>\n",
       "      <td>ABERFELDIE</td>\n",
       "      <td>VIC</td>\n",
       "      <td>3040</td>\n",
       "      <td>House</td>\n",
       "      <td>13-Nov-21</td>\n",
       "      <td>private treaty</td>\n",
       "      <td>3600000</td>\n",
       "      <td>4</td>\n",
       "      <td>3</td>\n",
       "      <td>4</td>\n",
       "      <td>801m²</td>\n",
       "      <td>Nelson Alexander Essendon</td>\n",
       "      <td>-37.755321</td>\n",
       "      <td>144.890218</td>\n",
       "      <td>9.166868</td>\n",
       "    </tr>\n",
       "    <tr>\n",
       "      <th>18</th>\n",
       "      <td>1/27 Arthur Street</td>\n",
       "      <td>ABERFELDIE VIC 3040</td>\n",
       "      <td>ABERFELDIE</td>\n",
       "      <td>VIC</td>\n",
       "      <td>3040</td>\n",
       "      <td>Apartment</td>\n",
       "      <td>30-Oct-21</td>\n",
       "      <td>auction</td>\n",
       "      <td>1100000</td>\n",
       "      <td>3</td>\n",
       "      <td>1</td>\n",
       "      <td>1</td>\n",
       "      <td>259m²</td>\n",
       "      <td>Barry Plant Essendon</td>\n",
       "      <td>-37.758404</td>\n",
       "      <td>144.892837</td>\n",
       "      <td>8.761086</td>\n",
       "    </tr>\n",
       "    <tr>\n",
       "      <th>19</th>\n",
       "      <td>36 May Street</td>\n",
       "      <td>ABERFELDIE VIC 3040</td>\n",
       "      <td>ABERFELDIE</td>\n",
       "      <td>VIC</td>\n",
       "      <td>3040</td>\n",
       "      <td>House</td>\n",
       "      <td>25-Oct-21</td>\n",
       "      <td>auction</td>\n",
       "      <td>1885000</td>\n",
       "      <td>3</td>\n",
       "      <td>1</td>\n",
       "      <td>1</td>\n",
       "      <td>558m²</td>\n",
       "      <td>Ray White Sunbury Pty Ltd</td>\n",
       "      <td>-37.761169</td>\n",
       "      <td>144.891066</td>\n",
       "      <td>8.659011</td>\n",
       "    </tr>\n",
       "  </tbody>\n",
       "</table>\n",
       "</div>"
      ],
      "text/plain": [
       "                   Street              Address      Suburb State  Postcode  \\\n",
       "0       6 Clifton Street   ABERFELDIE VIC 3040  ABERFELDIE   VIC      3040   \n",
       "1       14 Batman Street   ABERFELDIE VIC 3040  ABERFELDIE   VIC      3040   \n",
       "2       12 Batman Street   ABERFELDIE VIC 3040  ABERFELDIE   VIC      3040   \n",
       "3      24 Clifton Street   ABERFELDIE VIC 3040  ABERFELDIE   VIC      3040   \n",
       "4     34 Caroline Street   ABERFELDIE VIC 3040  ABERFELDIE   VIC      3040   \n",
       "5      3 Beatrice Avenue   ABERFELDIE VIC 3040  ABERFELDIE   VIC      3040   \n",
       "6          1 Vida Street   ABERFELDIE VIC 3040  ABERFELDIE   VIC      3040   \n",
       "7      37 Clifton Street   ABERFELDIE VIC 3040  ABERFELDIE   VIC      3040   \n",
       "8     104 Fawkner Street   ABERFELDIE VIC 3040  ABERFELDIE   VIC      3040   \n",
       "9     5 Muldowney Street   ABERFELDIE VIC 3040  ABERFELDIE   VIC      3040   \n",
       "10    47a Clifton Street   ABERFELDIE VIC 3040  ABERFELDIE   VIC      3040   \n",
       "11    24 Waverley Street   ABERFELDIE VIC 3040  ABERFELDIE   VIC      3040   \n",
       "12        14 Jean Street   ABERFELDIE VIC 3040  ABERFELDIE   VIC      3040   \n",
       "13     33 Clifton Street   ABERFELDIE VIC 3040  ABERFELDIE   VIC      3040   \n",
       "14     29 Clifton Street   ABERFELDIE VIC 3040  ABERFELDIE   VIC      3040   \n",
       "15  20 Combermere Street   ABERFELDIE VIC 3040  ABERFELDIE   VIC      3040   \n",
       "16     49 Clifton Street   ABERFELDIE VIC 3040  ABERFELDIE   VIC      3040   \n",
       "17       43 Afton Street   ABERFELDIE VIC 3040  ABERFELDIE   VIC      3040   \n",
       "18    1/27 Arthur Street   ABERFELDIE VIC 3040  ABERFELDIE   VIC      3040   \n",
       "19         36 May Street   ABERFELDIE VIC 3040  ABERFELDIE   VIC      3040   \n",
       "\n",
       "          Type       Date          Method    Price  Bedrooms  Bathrooms  Cars  \\\n",
       "0        House  25-Jun-22  private treaty  1810000         4          2     3   \n",
       "1        House  21-May-22         auction  2101000         4          3     2   \n",
       "2        House   9-Apr-22         auction  1900000         4          2     2   \n",
       "3        House   1-Apr-22         auction  2000000         3          2     5   \n",
       "4        House  26-Mar-22         auction  2981000         4          3     3   \n",
       "5        House  15-Mar-22  private treaty  2540000         5          4     4   \n",
       "6        House   4-Mar-22  private treaty  1855000         4          2     2   \n",
       "7        House  19-Feb-22         auction  1945000         4          3     2   \n",
       "8        House  19-Feb-22         auction  2007000         3          2     1   \n",
       "9        House   5-Feb-22         auction  2501000         4          2     3   \n",
       "10       House  21-Dec-21  private treaty  4730000         5          4     3   \n",
       "11       House  18-Dec-21  private treaty  1685000         3          2     2   \n",
       "12       House   8-Dec-21         auction  2430000         3          2     2   \n",
       "13       House   8-Dec-21         auction  1815000         3          2     2   \n",
       "14       House  30-Nov-21         auction  2261000         4          2     2   \n",
       "15       House  30-Nov-21  private treaty  1200000         3          1     2   \n",
       "16       House  13-Nov-21         auction  1710000         4          2     3   \n",
       "17       House  13-Nov-21  private treaty  3600000         4          3     4   \n",
       "18  Apartment   30-Oct-21         auction  1100000         3          1     1   \n",
       "19       House  25-Oct-21         auction  1885000         3          1     1   \n",
       "\n",
       "        Area                       Agent   Latitude   Longitude  Distance  \n",
       "0     535m²                    MATTHEWS. -37.761302  144.891030  8.651315  \n",
       "1     650m²          Woodards Ascot Vale -37.755418  144.893808  8.941133  \n",
       "2     650m²    Nelson Alexander Essendon -37.755418  144.893808  8.941133  \n",
       "3     640m²         Barry Plant Essendon -37.761302  144.891030  8.651315  \n",
       "4   1,017m²    Ray White Sunbury Pty Ltd -37.759417  144.892162  8.723874  \n",
       "5     613m²   Jellis Craig Moonee Valley -37.753983  144.889504  9.317378  \n",
       "6     569m²               McDonald Upton -37.755976  144.898742  8.604382  \n",
       "7     810m²         Barry Plant Essendon -37.761302  144.891030  8.651315  \n",
       "8     481m²         Barry Plant Essendon -37.757372  144.896145  8.641993  \n",
       "9     482m²    Nelson Alexander Essendon -37.758229  144.896914  8.526209  \n",
       "10    657m²    Nelson Alexander Essendon -37.761302  144.891030  8.651315  \n",
       "11    684m²    Nelson Alexander Essendon -37.756491  144.907204  8.088507  \n",
       "12    559m²         Barry Plant Essendon -37.762089  144.893063  8.460915  \n",
       "13    806m²                Frank Dowling -37.761302  144.891030  8.651315  \n",
       "14    766m²         Barry Plant Essendon -37.761302  144.891030  8.651315  \n",
       "15    352m²         Barry Plant Essendon -37.756177  144.904560  8.259239  \n",
       "16    565m²                    MATTHEWS. -37.761302  144.891030  8.651315  \n",
       "17    801m²    Nelson Alexander Essendon -37.755321  144.890218  9.166868  \n",
       "18    259m²         Barry Plant Essendon -37.758404  144.892837  8.761086  \n",
       "19    558m²    Ray White Sunbury Pty Ltd -37.761169  144.891066  8.659011  "
      ]
     },
     "execution_count": 15,
     "metadata": {},
     "output_type": "execute_result"
    }
   ],
   "source": [
    "\n",
    "\n",
    "df = pd.read_csv(f\"../MLrealestate/data/{city}/{city}_latlon.csv\")\n",
    "la2,lo2 = get_coordinates('No Street Found', city)\n",
    "\n",
    "def calc_distance(la1,lo1):\n",
    "    # approximate radius of earth in km\n",
    "    R = 6373.0\n",
    "\n",
    "    lat1 = radians(la1)\n",
    "    lon1 = radians(lo1)\n",
    "    lat2 = radians(la2)\n",
    "    lon2 = radians(lo2)\n",
    "\n",
    "    dlon = lon2 - lon1\n",
    "    dlat = lat2 - lat1\n",
    "\n",
    "    a = sin(dlat / 2)**2 + cos(lat1) * cos(lat2) * sin(dlon / 2)**2\n",
    "    c = 2 * atan2(sqrt(a), sqrt(1 - a))\n",
    "\n",
    "    distance = R * c\n",
    "    return distance\n",
    "   \n",
    "\n",
    "vec_cal_distance = np.vectorize(calc_distance)\n",
    "df['Distance']  = vec_cal_distance(df.Latitude, df.Longitude)\n",
    "df.to_csv(f\"../MLrealestate/data/{city}/{city}_distance.csv\",header = True,index=False)\n",
    "df.head(20)"
   ]
  },
  {
   "cell_type": "markdown",
   "metadata": {},
   "source": [
    "Clean up Area by removing commas,m2, and converting Ha to m2"
   ]
  },
  {
   "cell_type": "code",
   "execution_count": null,
   "metadata": {},
   "outputs": [],
   "source": [
    "df = pd.read_csv(f\"../MLrealestate/data/{city}/{city}_distance.csv\")\n",
    "\n",
    "def convert_area(area):\n",
    "    if ',' in area:\n",
    "        area = area.replace(',','')\n",
    "    if 'm²' in area:\n",
    "        area = area.replace('m²','')\n",
    "    if 'ha' in area:\n",
    "        area = 10000*float(area.replace('ha',''))\n",
    "    return float(area)\n",
    "   \n",
    "\n",
    "vec_convert_area = np.vectorize(convert_area)\n",
    "df['Area']  = vec_convert_area(df.Area)\n",
    "\n",
    "\n",
    "df.to_csv(f\"../MLrealestate/data/{city}/{city}_area.csv\",header = True,index=False)"
   ]
  },
  {
   "cell_type": "code",
   "execution_count": null,
   "metadata": {},
   "outputs": [],
   "source": [
    "import plotly.express as px\n",
    "df = pd.read_csv(f\"../MLrealestate/data/{city}/{city}_distance.csv\")\n",
    "fig = px.scatter_mapbox(df,lat = df['Latitude'],lon = df['Longitude'],zoom =8,color = df['Price'],size = df['Price'], text =df.Street+ df.Address, width = 1100, height = 800, title = city + ' House Prices Map')\n",
    "fig.update_layout(mapbox_style = 'open-street-map')\n",
    "fig.update_layout(margin = {'r':0 , 't': 50, 'l':0 , 'b':10})\n",
    "fig.show()"
   ]
  },
  {
   "cell_type": "markdown",
   "metadata": {},
   "source": [
    "Send Email of the collected & transformed data"
   ]
  },
  {
   "cell_type": "code",
   "execution_count": null,
   "metadata": {},
   "outputs": [],
   "source": [
    "\n",
    "emailsend.run(f\"../MLrealestate/data/{city}/{city}_area.csv\")"
   ]
  }
 ],
 "metadata": {
  "kernelspec": {
   "display_name": "Python 3.8.10 64-bit",
   "language": "python",
   "name": "python3"
  },
  "language_info": {
   "codemirror_mode": {
    "name": "ipython",
    "version": 3
   },
   "file_extension": ".py",
   "mimetype": "text/x-python",
   "name": "python",
   "nbconvert_exporter": "python",
   "pygments_lexer": "ipython3",
   "version": "3.8.10"
  },
  "orig_nbformat": 4,
  "vscode": {
   "interpreter": {
    "hash": "916dbcbb3f70747c44a77c7bcd40155683ae19c65e1c03b4aa3499c5328201f1"
   }
  }
 },
 "nbformat": 4,
 "nbformat_minor": 2
}
